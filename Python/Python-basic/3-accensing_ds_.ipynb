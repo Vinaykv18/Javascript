{
 "cells": [
  {
   "cell_type": "code",
   "execution_count": 17,
   "id": "c3dcde86-9014-4a93-bda6-4551a086a179",
   "metadata": {},
   "outputs": [
    {
     "name": "stdout",
     "output_type": "stream",
     "text": [
      "apple\n",
      "banana\n",
      "cherry\n",
      "Number: 0\n",
      "Number: 1\n",
      "Number: 2\n",
      "Number: 3\n",
      "Number: 4\n",
      "h\n",
      "e\n",
      "l\n",
      "l\n",
      "o\n"
     ]
    }
   ],
   "source": [
    "# Iterating over a list\n",
    "fruits = [\"apple\", \"banana\", \"cherry\"]\n",
    "for fruit in fruits:\n",
    "    print(fruit)\n",
    "\n",
    "# Using range()\n",
    "for i in range(5):  # 0 to 4\n",
    "    print(\"Number:\", i)\n",
    "\n",
    "# Iterating over a string\n",
    "for char in \"hello\":\n",
    "    print(char)\n"
   ]
  },
  {
   "cell_type": "code",
   "execution_count": 18,
   "id": "e564cc71-c2b5-4e19-9afc-2766ee730b48",
   "metadata": {},
   "outputs": [
    {
     "name": "stdout",
     "output_type": "stream",
     "text": [
      "apple\n",
      "banana\n",
      "cherry\n"
     ]
    }
   ],
   "source": [
    "fruits = [\"apple\", \"banana\", \"cherry\"]\n",
    "i = 0\n",
    "while i < len(fruits):\n",
    "    print(fruits[i])\n",
    "    i += 1\n"
   ]
  },
  {
   "cell_type": "code",
   "execution_count": 19,
   "id": "1900734e-4bcd-4681-8da3-949b888735fa",
   "metadata": {},
   "outputs": [
    {
     "name": "stdout",
     "output_type": "stream",
     "text": [
      "Before break: 0\n",
      "Before break: 1\n",
      "Before break: 2\n",
      "Skipping 3: 0\n",
      "Skipping 3: 1\n",
      "Skipping 3: 2\n",
      "Skipping 3: 4\n"
     ]
    }
   ],
   "source": [
    "# Using break\n",
    "for i in range(5):\n",
    "    if i == 3:\n",
    "        break\n",
    "    print(\"Before break:\", i)\n",
    "\n",
    "# Using continue\n",
    "for i in range(5):\n",
    "    if i == 3:\n",
    "        continue\n",
    "    print(\"Skipping 3:\", i)\n"
   ]
  },
  {
   "cell_type": "code",
   "execution_count": 20,
   "id": "2790e8b6-5050-45f1-a414-2d084532c756",
   "metadata": {},
   "outputs": [
    {
     "name": "stdout",
     "output_type": "stream",
     "text": [
      "1 x 1 = 1\n",
      "1 x 2 = 2\n",
      "1 x 3 = 3\n",
      "---\n",
      "2 x 1 = 2\n",
      "2 x 2 = 4\n",
      "2 x 3 = 6\n",
      "---\n",
      "3 x 1 = 3\n",
      "3 x 2 = 6\n",
      "3 x 3 = 9\n",
      "---\n"
     ]
    }
   ],
   "source": [
    "# Multiplication table\n",
    "for i in range(1, 4):  # Outer loop\n",
    "    for j in range(1, 4):  # Inner loop\n",
    "        print(f\"{i} x {j} = {i * j}\")\n",
    "    print(\"---\")  # Separator between tables\n"
   ]
  },
  {
   "cell_type": "code",
   "execution_count": 21,
   "id": "e083f91a-5050-4de2-8f5e-00ef8a1a515b",
   "metadata": {},
   "outputs": [
    {
     "name": "stdout",
     "output_type": "stream",
     "text": [
      "0\n",
      "2\n",
      "4\n",
      "6\n",
      "8\n"
     ]
    }
   ],
   "source": [
    "# Loop from 0 to 8 with step of 2\n",
    "for i in range(0, 10, 2):\n",
    "    print(i)\n",
    "# Output: 0, 2, 4, 6, 8\n"
   ]
  },
  {
   "cell_type": "code",
   "execution_count": 22,
   "id": "4666bb73-5a3f-42fd-8aeb-69496136e31f",
   "metadata": {},
   "outputs": [
    {
     "name": "stdout",
     "output_type": "stream",
     "text": [
      "0\n",
      "1\n",
      "2\n",
      "3\n",
      "4\n",
      "5\n",
      "6\n",
      "7\n",
      "8\n",
      "9\n"
     ]
    }
   ],
   "source": [
    "# Loop from 0 to 8 with step of 2\n",
    "for i in range(0, 10, 1):\n",
    "    print(i)\n",
    "# Output: 0, 2, 4, 6, 8\n"
   ]
  },
  {
   "cell_type": "code",
   "execution_count": 23,
   "id": "f35e3b58-5e41-480e-b768-dca71907b8ca",
   "metadata": {},
   "outputs": [
    {
     "name": "stdout",
     "output_type": "stream",
     "text": [
      "10\n",
      "9\n",
      "8\n",
      "7\n",
      "6\n",
      "5\n",
      "4\n",
      "3\n",
      "2\n",
      "1\n"
     ]
    }
   ],
   "source": [
    "# Loop from 10 to 1 (in reverse)\n",
    "for i in range(10, 0, -1):\n",
    "    print(i)\n",
    "# Output: 10, 9, 8, 7, 6, 5, 4, 3, 2, 1\n"
   ]
  },
  {
   "cell_type": "code",
   "execution_count": 24,
   "id": "5ac6ff15-b7d0-4ae1-9a55-6306fa119945",
   "metadata": {},
   "outputs": [
    {
     "name": "stdout",
     "output_type": "stream",
     "text": [
      "apple\n",
      "banana\n",
      "cherry\n",
      "Index 0: apple\n",
      "Index 1: banana\n",
      "Index 2: cherry\n"
     ]
    }
   ],
   "source": [
    "# Define a list\n",
    "fruits = [\"apple\", \"banana\", \"cherry\"]\n",
    "\n",
    "# Loop through the list\n",
    "for fruit in fruits:\n",
    "    print(fruit)\n",
    "\n",
    "# With index\n",
    "for i in range(len(fruits)):\n",
    "    print(f\"Index {i}: {fruits[i]}\")\n"
   ]
  },
  {
   "cell_type": "code",
   "execution_count": 25,
   "id": "3597a35d-929c-4085-b7a6-8edeab804103",
   "metadata": {},
   "outputs": [
    {
     "name": "stdout",
     "output_type": "stream",
     "text": [
      "red\n",
      "green\n",
      "blue\n",
      "Index 0: red\n",
      "Index 1: green\n",
      "Index 2: blue\n"
     ]
    }
   ],
   "source": [
    "# Define a tuple\n",
    "colors = (\"red\", \"green\", \"blue\")\n",
    "\n",
    "# Loop through the tuple\n",
    "for color in colors:\n",
    "    print(color)\n",
    "\n",
    "# Using index\n",
    "for i in range(len(colors)):\n",
    "    print(f\"Index {i}: {colors[i]}\")\n"
   ]
  },
  {
   "cell_type": "code",
   "execution_count": 26,
   "id": "69e7668b-5a35-4ee3-b556-b406f8d46bf3",
   "metadata": {},
   "outputs": [
    {
     "name": "stdout",
     "output_type": "stream",
     "text": [
      "Key: name, Value: Alice\n",
      "Key: age, Value: 25\n",
      "Key: city, Value: New York\n",
      "Value: Alice\n",
      "Value: 25\n",
      "Value: New York\n",
      "Key: name, Value: Alice\n",
      "Key: age, Value: 25\n",
      "Key: city, Value: New York\n"
     ]
    }
   ],
   "source": [
    "# Define a dictionary\n",
    "person = {\"name\": \"Alice\", \"age\": 25, \"city\": \"New York\"}\n",
    "\n",
    "# Loop through keys\n",
    "for key in person:\n",
    "    print(f\"Key: {key}, Value: {person[key]}\")\n",
    "\n",
    "# Loop through values\n",
    "for value in person.values():\n",
    "    print(f\"Value: {value}\")\n",
    "\n",
    "# Loop through key-value pairs\n",
    "for key, value in person.items():\n",
    "    print(f\"Key: {key}, Value: {value}\")\n"
   ]
  },
  {
   "cell_type": "code",
   "execution_count": 28,
   "id": "cdbfd890-0811-4857-bdf3-e50f949dc728",
   "metadata": {},
   "outputs": [
    {
     "name": "stdout",
     "output_type": "stream",
     "text": [
      "1\n",
      "2\n",
      "3\n",
      "4\n",
      "5\n"
     ]
    }
   ],
   "source": [
    "# Define a set\n",
    "numbers = {1, 2, 3, 4, 5}\n",
    "\n",
    "# Loop through the set\n",
    "for number in numbers:\n",
    "    print(number)\n",
    "\n",
    "# Note: Since sets are unordered, the iteration order may vary.\n"
   ]
  },
  {
   "cell_type": "code",
   "execution_count": 29,
   "id": "51d5244f-a62b-40b3-849f-bbd32e53c046",
   "metadata": {},
   "outputs": [
    {
     "name": "stdout",
     "output_type": "stream",
     "text": [
      "h\n",
      "e\n",
      "l\n",
      "l\n",
      "o\n",
      "Index 0: h\n",
      "Index 1: e\n",
      "Index 2: l\n",
      "Index 3: l\n",
      "Index 4: o\n"
     ]
    }
   ],
   "source": [
    "# Define a string\n",
    "text = \"hello\"\n",
    "\n",
    "# Loop through characters in the string\n",
    "for char in text:\n",
    "    print(char)\n",
    "\n",
    "# With index\n",
    "for i in range(len(text)):\n",
    "    print(f\"Index {i}: {text[i]}\")\n"
   ]
  },
  {
   "cell_type": "code",
   "execution_count": 30,
   "id": "ae8e9cf3-9bc0-4e52-8323-e1b8efa21d0d",
   "metadata": {},
   "outputs": [
    {
     "name": "stdout",
     "output_type": "stream",
     "text": [
      "Index 0: apple\n",
      "Index 1: banana\n",
      "Index 2: cherry\n"
     ]
    }
   ],
   "source": [
    "fruits = [\"apple\", \"banana\", \"cherry\"]\n",
    "\n",
    "for index, fruit in enumerate(fruits):\n",
    "    print(f\"Index {index}: {fruit}\")\n"
   ]
  },
  {
   "cell_type": "code",
   "execution_count": 31,
   "id": "ce0e01de-f0ed-416f-b013-9eb6f0c6ffb6",
   "metadata": {},
   "outputs": [
    {
     "name": "stdout",
     "output_type": "stream",
     "text": [
      "1 2 3 \n",
      "4 5 6 \n",
      "7 8 9 \n",
      "Name: Alice\n",
      "  age: 25\n",
      "  city: NY\n",
      "Name: Bob\n",
      "  age: 30\n",
      "  city: LA\n"
     ]
    }
   ],
   "source": [
    "# Nested loop with lists\n",
    "matrix = [[1, 2, 3], [4, 5, 6], [7, 8, 9]]\n",
    "\n",
    "for row in matrix:\n",
    "    for value in row:\n",
    "        print(value, end=\" \")\n",
    "    print()\n",
    "\n",
    "# Nested loop with dictionaries\n",
    "data = {\"Alice\": {\"age\": 25, \"city\": \"NY\"}, \"Bob\": {\"age\": 30, \"city\": \"LA\"}}\n",
    "\n",
    "for name, info in data.items():\n",
    "    print(f\"Name: {name}\")\n",
    "    for key, value in info.items():\n",
    "        print(f\"  {key}: {value}\")\n"
   ]
  },
  {
   "cell_type": "code",
   "execution_count": 32,
   "id": "543b85d3-b02a-446f-8c15-1a91077b54df",
   "metadata": {},
   "outputs": [
    {
     "name": "stdout",
     "output_type": "stream",
     "text": [
      "apple\n",
      "cherry\n",
      "cherry\n",
      "banana\n",
      "['banana', 'cherry']\n",
      "['apple', 'banana']\n"
     ]
    }
   ],
   "source": [
    "# Define a list\n",
    "fruits = [\"apple\", \"banana\", \"cherry\"]\n",
    "\n",
    "# Access by index\n",
    "print(fruits[0])  # Output: apple\n",
    "print(fruits[2])  # Output: cherry\n",
    "\n",
    "# Access with negative index\n",
    "print(fruits[-1])  # Output: cherry (last element)\n",
    "print(fruits[-2])  # Output: banana\n",
    "\n",
    "# Access a slice (sub-list)\n",
    "print(fruits[1:])  # Output: ['banana', 'cherry']\n",
    "print(fruits[:2])  # Output: ['apple', 'banana']\n"
   ]
  },
  {
   "cell_type": "code",
   "execution_count": 34,
   "id": "d59d959a-e522-40ed-8232-5475ba49add7",
   "metadata": {},
   "outputs": [
    {
     "name": "stdout",
     "output_type": "stream",
     "text": [
      "red\n",
      "blue\n",
      "('green', 'blue')\n"
     ]
    }
   ],
   "source": [
    "# Define a tuple\n",
    "colors = (\"red\", \"green\", \"blue\")\n",
    "\n",
    "# Access by index\n",
    "print(colors[0])  # Output: red\n",
    "\n",
    "# Negative index\n",
    "print(colors[-1])  # Output: blue\n",
    "\n",
    "# Slicing\n",
    "print(colors[1:])  # Output: ('green', 'blue')\n",
    "\n"
   ]
  },
  {
   "cell_type": "code",
   "execution_count": 35,
   "id": "6514b5c6-871f-46e3-9f93-e414761c9788",
   "metadata": {},
   "outputs": [
    {
     "name": "stdout",
     "output_type": "stream",
     "text": [
      "Alice\n",
      "25\n",
      "dict_keys(['name', 'age', 'city'])\n",
      "dict_values(['Alice', 25, 'New York'])\n",
      "dict_items([('name', 'Alice'), ('age', 25), ('city', 'New York')])\n",
      "Not Found\n"
     ]
    }
   ],
   "source": [
    "# Define a dictionary\n",
    "person = {\"name\": \"Alice\", \"age\": 25, \"city\": \"New York\"}\n",
    "\n",
    "# Access by key\n",
    "print(person[\"name\"])  # Output: Alice\n",
    "print(person.get(\"age\"))  # Output: 25\n",
    "\n",
    "# Access all keys\n",
    "print(person.keys())  # Output: dict_keys(['name', 'age', 'city'])\n",
    "\n",
    "# Access all values\n",
    "print(person.values())  # Output: dict_values(['Alice', 25, 'New York'])\n",
    "\n",
    "# Access key-value pairs\n",
    "print(person.items())  # Output: dict_items([('name', 'Alice'), ('age', 25), ('city', 'New York')])\n",
    "\n",
    "# Access with a default value if the key doesn't exist\n",
    "print(person.get(\"country\", \"Not Found\"))  # Output: Not Found\n"
   ]
  },
  {
   "cell_type": "code",
   "execution_count": 36,
   "id": "6f25252e-c218-4e9f-8691-709c0c6a4f2c",
   "metadata": {},
   "outputs": [
    {
     "name": "stdout",
     "output_type": "stream",
     "text": [
      "True\n",
      "False\n",
      "1\n",
      "2\n",
      "3\n",
      "4\n",
      "5\n",
      "1\n"
     ]
    }
   ],
   "source": [
    "# Define a set\n",
    "numbers = {1, 2, 3, 4, 5}\n",
    "\n",
    "# Membership testing\n",
    "print(3 in numbers)  # Output: True\n",
    "print(6 in numbers)  # Output: False\n",
    "\n",
    "# Looping\n",
    "for num in numbers:\n",
    "    print(num)\n",
    "\n",
    "# Convert to a list for indexed access\n",
    "numbers_list = list(numbers)\n",
    "print(numbers_list[0])  # Access by index after conversion\n"
   ]
  },
  {
   "cell_type": "code",
   "execution_count": 37,
   "id": "d82e450a-7d9e-433f-bb13-18caa6648486",
   "metadata": {},
   "outputs": [
    {
     "name": "stdout",
     "output_type": "stream",
     "text": [
      "h\n",
      "o\n",
      "ell\n",
      "olleh\n",
      "h\n",
      "e\n",
      "l\n",
      "l\n",
      "o\n"
     ]
    }
   ],
   "source": [
    "# Define a string\n",
    "text = \"hello\"\n",
    "\n",
    "# Access by index\n",
    "print(text[0])  # Output: h\n",
    "print(text[-1])  # Output: o\n",
    "\n",
    "# Slicing\n",
    "print(text[1:4])  # Output: ell\n",
    "print(text[::-1])  # Reverse string: olleh\n",
    "\n",
    "# Looping through characters\n",
    "for char in text:\n",
    "    print(char)\n"
   ]
  },
  {
   "cell_type": "code",
   "execution_count": null,
   "id": "1e972fc0-a07b-4720-8142-531e06a85030",
   "metadata": {},
   "outputs": [],
   "source": []
  }
 ],
 "metadata": {
  "kernelspec": {
   "display_name": "Python 3 (ipykernel)",
   "language": "python",
   "name": "python3"
  },
  "language_info": {
   "codemirror_mode": {
    "name": "ipython",
    "version": 3
   },
   "file_extension": ".py",
   "mimetype": "text/x-python",
   "name": "python",
   "nbconvert_exporter": "python",
   "pygments_lexer": "ipython3",
   "version": "3.12.3"
  }
 },
 "nbformat": 4,
 "nbformat_minor": 5
}
