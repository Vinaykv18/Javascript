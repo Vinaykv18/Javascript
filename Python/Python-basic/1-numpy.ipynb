{
 "cells": [
  {
   "cell_type": "code",
   "execution_count": 4,
   "id": "7f645019-abbe-4e57-bea2-21dcc8e13ad9",
   "metadata": {},
   "outputs": [
    {
     "name": "stdout",
     "output_type": "stream",
     "text": [
      "[0. 0. 0.]\n"
     ]
    },
    {
     "data": {
      "text/plain": [
       "numpy.ndarray"
      ]
     },
     "execution_count": 4,
     "metadata": {},
     "output_type": "execute_result"
    }
   ],
   "source": [
    "import numpy as np\n",
    "a = np.zeros(3)\n",
    "print(a)\n",
    "type(a)"
   ]
  },
  {
   "cell_type": "code",
   "execution_count": 7,
   "id": "3643b797-8f04-4c30-bd4f-3f8cb6f4ab74",
   "metadata": {},
   "outputs": [
    {
     "name": "stdout",
     "output_type": "stream",
     "text": [
      "[1. 1. 1.]\n"
     ]
    },
    {
     "data": {
      "text/plain": [
       "numpy.float64"
      ]
     },
     "execution_count": 7,
     "metadata": {},
     "output_type": "execute_result"
    }
   ],
   "source": [
    "b = np.ones(3)\n",
    "print(b)\n",
    "type(b[0])"
   ]
  },
  {
   "cell_type": "code",
   "execution_count": 9,
   "id": "a4d7fedf-3184-40e1-a2a1-c9f1ae9fa805",
   "metadata": {},
   "outputs": [
    {
     "name": "stdout",
     "output_type": "stream",
     "text": [
      "[ 2.  4.  6.  8. 10.]\n"
     ]
    }
   ],
   "source": [
    "b = np.linspace(2,10,5)\n",
    "print(b)"
   ]
  },
  {
   "cell_type": "code",
   "execution_count": 14,
   "id": "d4bd6e45-3004-4251-9736-6f466b49f0ce",
   "metadata": {},
   "outputs": [
    {
     "name": "stdout",
     "output_type": "stream",
     "text": [
      "[[1 3 4 5 6]]\n"
     ]
    },
    {
     "data": {
      "text/plain": [
       "(1, 5)"
      ]
     },
     "execution_count": 14,
     "metadata": {},
     "output_type": "execute_result"
    }
   ],
   "source": [
    "a_list = [1,3,4,5,6]\n",
    "a = np.array([a_list])\n",
    "print(a)\n",
    "a.shape\n"
   ]
  },
  {
   "cell_type": "code",
   "execution_count": 15,
   "id": "706f7534-122c-4367-a00f-560eaa78ebd6",
   "metadata": {},
   "outputs": [
    {
     "name": "stdout",
     "output_type": "stream",
     "text": [
      "Shape of 1D array: (5,)\n",
      "Shape of 2D array: (2, 3)\n",
      "Shape of 3D array: (2, 2, 2)\n"
     ]
    }
   ],
   "source": [
    "import numpy as np\n",
    "\n",
    "# Create a 1D array\n",
    "arr = np.array([1, 2, 3, 4, 5])\n",
    "print(\"Shape of 1D array:\", arr.shape)  # Output: (5,)\n",
    "\n",
    "# Create a 2D array\n",
    "arr_2d = np.array([[1, 2, 3], [4, 5, 6]])\n",
    "print(\"Shape of 2D array:\", arr_2d.shape)  # Output: (2, 3)\n",
    "\n",
    "# Create a 3D array\n",
    "arr_3d = np.array([[[1, 2], [3, 4]], [[5, 6], [7, 8]]])\n",
    "print(\"Shape of 3D array:\", arr_3d.shape)  # Output: (2, 2, 2)\n"
   ]
  },
  {
   "cell_type": "code",
   "execution_count": 21,
   "id": "de9dd6de-63d8-4878-be50-fa59028f730d",
   "metadata": {},
   "outputs": [
    {
     "name": "stdout",
     "output_type": "stream",
     "text": [
      "1D array of random numbers: [5 4 9 4 9]\n",
      "2D array of random integers:\n",
      " [[7 6 6]\n",
      " [2 0 0]\n",
      " [7 0 5]]\n",
      "3D array of random numbers from normal distribution:\n",
      " [[[ 0.63355658  1.31917332]\n",
      "  [ 0.69963237  1.41170794]]\n",
      "\n",
      " [[ 0.04451156 -0.85648339]\n",
      "  [-0.87195735  0.74610148]]]\n"
     ]
    }
   ],
   "source": [
    "\n",
    "\n",
    "# Generate a 1D array of 5 random numbers between 0 and 1\n",
    "random_array_1d = np.random.randint(10,size=5)\n",
    "print(\"1D array of random numbers:\", random_array_1d)\n",
    "\n",
    "# Generate a 2D array of random integers between 0 and 10\n",
    "random_array_2d = np.random.randint(0, 10, size=(3, 3))\n",
    "print(\"2D array of random integers:\\n\", random_array_2d)\n",
    "\n",
    "# Generate a 3D array of random numbers from a normal distribution\n",
    "random_array_3d = np.random.randn(2, 2, 2)\n",
    "print(\"3D array of random numbers from normal distribution:\\n\", random_array_3d)\n"
   ]
  },
  {
   "cell_type": "raw",
   "id": "1913dbb6-18ea-41e7-882f-5b6829f6cae9",
   "metadata": {},
   "source": [
    "NumPy is a popular library in Python for numerical computing. It provides support for large, multi-dimensional arrays and matrices, along with a collection of mathematical functions to operate on these arrays.\n",
    "\n",
    "Key features of NumPy:\n",
    "\n",
    "N-Dimensional Array: NumPy's core data structure is the ndarray, which is a fast, flexible, and efficient array object that supports multi-dimensional arrays.\n",
    "Vectorized Operations: It allows element-wise operations without the need for explicit loops, which results in faster and more efficient code.\n",
    "Mathematical Functions: It provides a wide variety of mathematical functions such as trigonometric, statistical, and algebraic operations.\n",
    "Broadcasting: This allows NumPy to perform operations on arrays of different shapes and sizes, ensuring compatibility and efficient computations.\n",
    "Linear Algebra: NumPy supports matrix operations, linear algebra functions, and solving systems of linear equations"
   ]
  },
  {
   "cell_type": "code",
   "execution_count": null,
   "id": "8f265344-565c-48fd-a45f-117ba4b04379",
   "metadata": {},
   "outputs": [],
   "source": []
  }
 ],
 "metadata": {
  "kernelspec": {
   "display_name": "Python 3 (ipykernel)",
   "language": "python",
   "name": "python3"
  },
  "language_info": {
   "codemirror_mode": {
    "name": "ipython",
    "version": 3
   },
   "file_extension": ".py",
   "mimetype": "text/x-python",
   "name": "python",
   "nbconvert_exporter": "python",
   "pygments_lexer": "ipython3",
   "version": "3.12.3"
  }
 },
 "nbformat": 4,
 "nbformat_minor": 5
}
