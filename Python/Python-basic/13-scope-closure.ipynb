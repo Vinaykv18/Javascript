{
 "cells": [
  {
   "cell_type": "code",
   "execution_count": 4,
   "id": "7ecdcda3-8417-45da-a30c-c41f608e5143",
   "metadata": {},
   "outputs": [
    {
     "name": "stdout",
     "output_type": "stream",
     "text": [
      "Local variable x: 10\n"
     ]
    }
   ],
   "source": [
    "def local_example():\n",
    "    x = 10  # Local variable A variable defined inside a function is in the local scope and can only be accessed within that function.\n",
    "    print(f\"Local variable x: {x}\")\n",
    "\n",
    "local_example()\n",
    "#print(x)  # Error: x is not defined outside the function\n"
   ]
  },
  {
   "cell_type": "raw",
   "id": "57454f12-7b05-4399-9ac3-9f0c45f6fbd9",
   "metadata": {},
   "source": [
    "Local Scope\n",
    "Enclosing Scope\n",
    "Global Scope\n",
    "Built-in Scope"
   ]
  },
  {
   "cell_type": "code",
   "execution_count": 10,
   "id": "b91da3d7-3063-4b07-a98d-3441153ae67c",
   "metadata": {},
   "outputs": [
    {
     "name": "stdout",
     "output_type": "stream",
     "text": [
      "Modified enclosing variable y: 40\n",
      "Final value of y in enclosing scope: 50\n"
     ]
    }
   ],
   "source": [
    "def enclosing_example():\n",
    "    y = 20  # Enclosing variable This is the scope of a nested function. A variable in the enclosing (outer) function is accessible to the inner function but not considered global.\n",
    "    y+=10\n",
    "    def inner_function():\n",
    "        nonlocal y\n",
    "        y += 10  # Modify enclosing variable\n",
    "        print(f\"Modified enclosing variable y: {y}\")\n",
    "    \n",
    "    inner_function()\n",
    "    y+=10\n",
    "    print(f\"Final value of y in enclosing scope: {y}\")\n",
    "\n",
    "enclosing_example()\n"
   ]
  },
  {
   "cell_type": "code",
   "execution_count": 20,
   "id": "713dc445-1aae-4992-b30b-9d98c0cc90e8",
   "metadata": {},
   "outputs": [
    {
     "name": "stdout",
     "output_type": "stream",
     "text": [
      "Modified global variable z: 50\n",
      "Value of z in global scope: 50\n"
     ]
    }
   ],
   "source": [
    "z = 30  # A variable defined outside any function is in the global scope and is accessible throughout the program. To modify a global variable inside a function, you must declare it as global\n",
    "\n",
    "def global_example():\n",
    "    global z\n",
    "   # nonlocal z\n",
    "    z += 20\n",
    "    print(f\"Modified global variable z: {z}\")\n",
    "\n",
    "global_example()\n",
    "print(f\"Value of z in global scope: {z}\")\n"
   ]
  },
  {
   "cell_type": "code",
   "execution_count": 18,
   "id": "0827e7ff-abab-41be-b087-175c1f6abf5a",
   "metadata": {},
   "outputs": [
    {
     "name": "stdout",
     "output_type": "stream",
     "text": [
      "Local variable a: 100\n",
      "Global variable a: 50\n"
     ]
    }
   ],
   "source": [
    "a = 50  # Global variable\n",
    "\n",
    "def shadow_example():\n",
    "    a = 100  # Local variable\n",
    "    print(f\"Local variable a: {a}\")\n",
    "\n",
    "shadow_example()\n",
    "print(f\"Global variable a: {a}\")\n"
   ]
  },
  {
   "cell_type": "code",
   "execution_count": 21,
   "id": "c5cf3a3a-20d1-4d50-9cca-3d920be6a11a",
   "metadata": {},
   "outputs": [
    {
     "name": "stdout",
     "output_type": "stream",
     "text": [
      "Accessing variable x: local\n"
     ]
    }
   ],
   "source": [
    "x = \"global\"\n",
    "\n",
    "def legb_example():\n",
    "    x = \"local\"  # Local scope\n",
    "\n",
    "    def inner_function():\n",
    "        print(f\"Accessing variable x: {x}\")  # Enclosing scope\n",
    "    \n",
    "    inner_function()\n",
    "\n",
    "legb_example()\n"
   ]
  },
  {
   "cell_type": "raw",
   "id": "f7ba413e-fc66-4f63-9d36-7395fed48f67",
   "metadata": {},
   "source": [
    "Closures in Python\n",
    "A closure is a function object that has access to variables in its enclosing scope, even after the scope has finished executing. Closures are created when a nested function \"remembers\" the variables from its enclosing function.\n",
    "\n",
    "Closures are commonly used to encapsulate logic and maintain state between function calls without using global variables or class instances."
   ]
  },
  {
   "cell_type": "code",
   "execution_count": 22,
   "id": "cdedd9cc-a7fc-435e-ad0d-1a92a79b16ce",
   "metadata": {},
   "outputs": [
    {
     "name": "stdout",
     "output_type": "stream",
     "text": [
      "15\n",
      "30\n"
     ]
    }
   ],
   "source": [
    "def outer_function(x):\n",
    "    # Enclosing variable\n",
    "    def inner_function(y):\n",
    "        return x + y  # inner_function uses x from outer_function\n",
    "    return inner_function\n",
    "\n",
    "# Create a closure\n",
    "closure = outer_function(10)\n",
    "\n",
    "# Call the closure with a new argument\n",
    "print(closure(5))  # Output: 15\n",
    "print(closure(20))  # Output: 30\n"
   ]
  },
  {
   "cell_type": "raw",
   "id": "487a7c15-9259-4c40-b7ab-c62d8e6d57ff",
   "metadata": {},
   "source": [
    "Why Use Closures?\n",
    "Maintain State: Closures can store data between calls without using global variables.\n",
    "Encapsulation: They hide implementation details, providing a clean interface.\n",
    "Functional Programming: Used in decorators and callback functions."
   ]
  },
  {
   "cell_type": "code",
   "execution_count": 23,
   "id": "a0782245-9979-429b-bcaf-d4e090c73123",
   "metadata": {},
   "outputs": [
    {
     "name": "stdout",
     "output_type": "stream",
     "text": [
      "10\n",
      "15\n"
     ]
    }
   ],
   "source": [
    "def multiplier(factor):\n",
    "    def multiply_by(number):\n",
    "        return number * factor\n",
    "    return multiply_by\n",
    "\n",
    "# Create closures with different factors\n",
    "double = multiplier(2)\n",
    "triple = multiplier(3)\n",
    "\n",
    "print(double(5))  # Output: 10\n",
    "print(triple(5))  # Output: 15\n"
   ]
  },
  {
   "cell_type": "code",
   "execution_count": 24,
   "id": "26a1020e-b737-44bd-b52d-172f8e4ebc2c",
   "metadata": {},
   "outputs": [
    {
     "name": "stdout",
     "output_type": "stream",
     "text": [
      "Before the function call\n",
      "Hello, world!\n",
      "After the function call\n"
     ]
    }
   ],
   "source": [
    "def decorator(func):\n",
    "    def wrapper():\n",
    "        print(\"Before the function call\")\n",
    "        func()\n",
    "        print(\"After the function call\")\n",
    "    return wrapper\n",
    "\n",
    "@decorator\n",
    "def say_hello():\n",
    "    print(\"Hello, world!\")\n",
    "\n",
    "say_hello()\n"
   ]
  },
  {
   "cell_type": "code",
   "execution_count": null,
   "id": "e2e8c8b5-053a-4e06-8e88-3ddad698d469",
   "metadata": {},
   "outputs": [],
   "source": []
  }
 ],
 "metadata": {
  "kernelspec": {
   "display_name": "Python 3 (ipykernel)",
   "language": "python",
   "name": "python3"
  },
  "language_info": {
   "codemirror_mode": {
    "name": "ipython",
    "version": 3
   },
   "file_extension": ".py",
   "mimetype": "text/x-python",
   "name": "python",
   "nbconvert_exporter": "python",
   "pygments_lexer": "ipython3",
   "version": "3.12.3"
  }
 },
 "nbformat": 4,
 "nbformat_minor": 5
}
