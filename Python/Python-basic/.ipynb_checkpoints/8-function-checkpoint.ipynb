{
 "cells": [
  {
   "cell_type": "code",
   "execution_count": 1,
   "id": "9a35d068-447e-4614-a2d2-831e198a1c21",
   "metadata": {},
   "outputs": [
    {
     "data": {
      "text/plain": [
       "'Hello, vinay!'"
      ]
     },
     "execution_count": 1,
     "metadata": {},
     "output_type": "execute_result"
    }
   ],
   "source": [
    "def greet(name):\n",
    "    \"\"\"\n",
    "    Greets the user with their name.\n",
    "    \"\"\"\n",
    "    return f\"Hello, {name}!\"\n",
    "greet(\"vinay\")\n",
    "\n"
   ]
  },
  {
   "cell_type": "code",
   "execution_count": 6,
   "id": "b23347eb-73a3-4479-8367-ed67969ccc30",
   "metadata": {},
   "outputs": [
    {
     "name": "stdout",
     "output_type": "stream",
     "text": [
      "15\n"
     ]
    }
   ],
   "source": [
    "def add(a, b):\n",
    "    return a + b\n",
    "\n",
    "# Function call with positional argumens\n",
    "result = add(5, 10)\n",
    "print(result)  # Output: 15\n"
   ]
  },
  {
   "cell_type": "code",
   "execution_count": 7,
   "id": "783a29df-453e-4945-98cc-daab00c26f50",
   "metadata": {},
   "outputs": [
    {
     "name": "stdout",
     "output_type": "stream",
     "text": [
      "Vinay is 23 years old and lives in Bangalore.\n"
     ]
    }
   ],
   "source": [
    "def person_info(name, age, city):\n",
    "    return f\"{name} is {age} years old and lives in {city}.\"\n",
    "\n",
    "# Function call\n",
    "info = person_info(\"Vinay\", 23, \"Bangalore\")\n",
    "print(info)  # Output: Vinay is 23 years old and lives in Bangalore.\n"
   ]
  },
  {
   "cell_type": "code",
   "execution_count": 9,
   "id": "e10a5b3f-fb20-4d88-80eb-153d059b0bce",
   "metadata": {},
   "outputs": [
    {
     "name": "stdout",
     "output_type": "stream",
     "text": [
      "Vinay's age is not provided.\n",
      "Vinay is 23 years old.\n"
     ]
    }
   ],
   "source": [
    "#default arguments\n",
    "def display_info(name, age=None):\n",
    "    if age:\n",
    "        return f\"{name} is {age} years old.\"\n",
    "    else:\n",
    "        return f\"{name}'s age is not provided.\"\n",
    "\n",
    "print(display_info(\"Vinay\"))        # Output: Vinay's age is not provided.\n",
    "print(display_info(\"Vinay\", 23))    # Output: Vinay is 23 years old.\n"
   ]
  },
  {
   "cell_type": "code",
   "execution_count": 10,
   "id": "32f2828c-9e40-4b56-9005-48c108f56272",
   "metadata": {},
   "outputs": [
    {
     "name": "stdout",
     "output_type": "stream",
     "text": [
      "My name is Vinay, I am 23 years old, and I live in Bangalore.\n",
      "My name is Vinay, I am 23 years old, and I live in Bangalore.\n"
     ]
    }
   ],
   "source": [
    "def introduce(name, age, city):\n",
    "    return f\"My name is {name}, I am {age} years old, and I live in {city}.\"\n",
    "\n",
    "# Calling with keyword arguments\n",
    "print(introduce(name=\"Vinay\", age=23, city=\"Bangalore\"))\n",
    "# Output: My name is Vinay, I am 23 years old, and I live in Bangalore.\n",
    "\n",
    "# Order doesn't matter when using keyword arguments\n",
    "print(introduce(city=\"Bangalore\", name=\"Vinay\", age=23))\n",
    "# Output: My name is Vinay, I am 23 years old, and I live in Bangalore.\n"
   ]
  },
  {
   "cell_type": "code",
   "execution_count": 11,
   "id": "90b614d7-7a53-4837-af10-769e5d51fe4c",
   "metadata": {},
   "outputs": [
    {
     "name": "stdout",
     "output_type": "stream",
     "text": [
      "6\n",
      "100\n"
     ]
    }
   ],
   "source": [
    "def add_numbers(*args):\n",
    "    return sum(args)\n",
    "\n",
    "# Function calls with varying number of arguments\n",
    "print(add_numbers(1, 2, 3))          # Output: 6\n",
    "print(add_numbers(10, 20, 30, 40))   # Output: 100\n"
   ]
  },
  {
   "cell_type": "code",
   "execution_count": 12,
   "id": "e1e90006-65c5-49bb-8a5e-7a58698f0043",
   "metadata": {},
   "outputs": [
    {
     "name": "stdout",
     "output_type": "stream",
     "text": [
      "name: Vinay\n",
      "age: 23\n",
      "city: Bangalore\n"
     ]
    }
   ],
   "source": [
    "def display_info(**kwargs):\n",
    "    for key, value in kwargs.items():\n",
    "        print(f\"{key}: {value}\")\n",
    "\n",
    "# Function call\n",
    "display_info(name=\"Vinay\", age=23, city=\"Bangalore\")\n",
    "# Output:\n",
    "# name: Vinay\n",
    "# age: 23\n",
    "# city: Bangalore\n"
   ]
  },
  {
   "cell_type": "code",
   "execution_count": 13,
   "id": "a3833769-a33d-4c0e-9573-6fba9a25b2ee",
   "metadata": {},
   "outputs": [
    {
     "name": "stdout",
     "output_type": "stream",
     "text": [
      "Positional arguments: (1, 2, 3)\n",
      "Keyword arguments: {'name': 'Vinay', 'age': 23, 'city': 'Bangalore'}\n"
     ]
    }
   ],
   "source": [
    "def mixed_function(*args, **kwargs):\n",
    "    print(\"Positional arguments:\", args)\n",
    "    print(\"Keyword arguments:\", kwargs)\n",
    "\n",
    "# Function call\n",
    "mixed_function(1, 2, 3, name=\"Vinay\", age=23, city=\"Bangalore\")\n",
    "# Output:\n",
    "# Positional arguments: (1, 2, 3)\n",
    "# Keyword arguments: {'name': 'Vinay', 'age': 23, 'city': 'Bangalore'}\n"
   ]
  },
  {
   "cell_type": "code",
   "execution_count": 14,
   "id": "450a9f92-3609-4a5d-8a97-d53f9277dab2",
   "metadata": {},
   "outputs": [
    {
     "name": "stdout",
     "output_type": "stream",
     "text": [
      "Positional arguments: ('Vinay', 23)\n",
      "Keyword arguments: {'city': 'Bangalore', 'country': 'India'}\n"
     ]
    }
   ],
   "source": [
    "class Person:\n",
    "    def __init__(self, *args, **kwargs):\n",
    "        self.args = args\n",
    "        self.kwargs = kwargs\n",
    "\n",
    "    def display(self):\n",
    "        print(\"Positional arguments:\", self.args)\n",
    "        print(\"Keyword arguments:\", self.kwargs)\n",
    "\n",
    "# Creating an object\n",
    "person = Person(\"Vinay\", 23, city=\"Bangalore\", country=\"India\")\n",
    "person.display()\n",
    "# Output:\n",
    "# Positional arguments: ('Vinay', 23)\n",
    "# Keyword arguments: {'city': 'Bangalore', 'country': 'India'}\n"
   ]
  },
  {
   "cell_type": "code",
   "execution_count": 15,
   "id": "df10e2f6-9032-43b7-a6c6-d38c3d786b97",
   "metadata": {},
   "outputs": [
    {
     "name": "stdout",
     "output_type": "stream",
     "text": [
      "15\n"
     ]
    }
   ],
   "source": [
    "# Lambda to add 10 to a number:::::lambda arguments: expression\n",
    "\n",
    "\n",
    "add_ten = lambda x: x + 10\n",
    "\n",
    "print(add_ten(5))  # Output: 15\n"
   ]
  },
  {
   "cell_type": "code",
   "execution_count": 16,
   "id": "4e8b6356-7eaf-4e86-8491-62de6f3a1d2d",
   "metadata": {},
   "outputs": [
    {
     "name": "stdout",
     "output_type": "stream",
     "text": [
      "30\n"
     ]
    }
   ],
   "source": [
    "# Lambda to add two numbers\n",
    "add_numbers = lambda a, b: a + b\n",
    "\n",
    "print(add_numbers(10, 20))  # Output: 30\n"
   ]
  },
  {
   "cell_type": "code",
   "execution_count": 17,
   "id": "976ef461-2d3c-46de-a8ef-5383eabd34c6",
   "metadata": {},
   "outputs": [
    {
     "name": "stdout",
     "output_type": "stream",
     "text": [
      "[1, 4, 9, 16]\n"
     ]
    }
   ],
   "source": [
    "# Square each number in a list\n",
    "numbers = [1, 2, 3, 4]\n",
    "squared = map(lambda x: x**2, numbers)\n",
    "\n",
    "print(list(squared))  # Output: [1, 4, 9, 16]\n"
   ]
  },
  {
   "cell_type": "code",
   "execution_count": 20,
   "id": "645fbd2e-9da9-4f5f-bc44-40e05f675e6e",
   "metadata": {},
   "outputs": [
    {
     "name": "stdout",
     "output_type": "stream",
     "text": [
      "[2, 4, 6]\n"
     ]
    }
   ],
   "source": [
    "# Filter even numbers from a list\n",
    "numbers = [1, 2, 3, 4, 5, 6]\n",
    "even_numbers = filter(lambda x: x % 2 == 0, numbers)\n",
    "\n",
    "print(list(even_numbers))  # Output: [2, 4, 6]\n"
   ]
  },
  {
   "cell_type": "code",
   "execution_count": 23,
   "id": "e3c61089-50a2-44f3-9f84-167c30e85b6c",
   "metadata": {},
   "outputs": [
    {
     "name": "stdout",
     "output_type": "stream",
     "text": [
      "24\n"
     ]
    }
   ],
   "source": [
    "from functools import reduce\n",
    "\n",
    "# Find the product of all numbers in a list\n",
    "numbers = [1, 2, 3, 4]\n",
    "product = reduce(lambda x, y: x * y, numbers)\n",
    "\n",
    "print(product)  # Output: 24\n"
   ]
  },
  {
   "cell_type": "code",
   "execution_count": 24,
   "id": "dbe719ac-d683-4ba9-bc28-d09420018600",
   "metadata": {},
   "outputs": [
    {
     "name": "stdout",
     "output_type": "stream",
     "text": [
      "[(3, 'a'), (1, 'b'), (2, 'c')]\n"
     ]
    }
   ],
   "source": [
    "# Sort a list of tuples based on the second element\n",
    "pairs = [(1, 'b'), (3, 'a'), (2, 'c')]\n",
    "sorted_pairs = sorted(pairs, key=lambda x: x[1])\n",
    "\n",
    "print(sorted_pairs)  # Output: [(3, 'a'), (1, 'b'), (2, 'c')]\n"
   ]
  },
  {
   "cell_type": "markdown",
   "id": "7bbb67f9-aedc-4f8d-b2ff-0e7da1983339",
   "metadata": {},
   "source": [
    "Comparison of Comprehensions\n",
    "Type\tSyntax\tExample\n",
    "List Comprehension\t        [expr for item in iterable]\t     [x**2 for x in range(5)]\n",
    "Dictionary Comprehension\t{key: value for item in iterable}\t{x: x**2 for x in range(5)}\n",
    "Set Comprehension\t        {expr for item in iterable}      \t{x**2 for x in range(5)}\n",
    "Generator Expression\t    (expr for item in iterable)\t         (x**2 for x in range(5))"
   ]
  },
  {
   "cell_type": "code",
   "execution_count": 27,
   "id": "76da066d-b794-4852-9268-0b89765c2c4b",
   "metadata": {},
   "outputs": [
    {
     "name": "stdout",
     "output_type": "stream",
     "text": [
      "[1, 4, 9, 16, 25]\n",
      "[2, 4, 6, 8, 10]\n",
      "['HELLO', 'WORLD']\n"
     ]
    }
   ],
   "source": [
    "squares = [x**2 for x in range(1, 6)]\n",
    "print(squares)  # Output: [1, 4, 9, 16, 25]\n",
    "\n",
    "even_numbers = [x for x in range(1, 11) if x % 2 == 0]\n",
    "print(even_numbers)  # Output: [2, 4, 6, 8, 10]\n",
    "\n",
    "words = [\"hello\", \"world\"]\n",
    "uppercase_words = [word.upper() for word in words]\n",
    "print(uppercase_words)  # Output: ['HELLO', 'WORLD']\n",
    "\n",
    "\n"
   ]
  },
  {
   "cell_type": "code",
   "execution_count": 29,
   "id": "b65b0044-e76d-4613-8640-d5f3a2e9e2ee",
   "metadata": {},
   "outputs": [
    {
     "name": "stdout",
     "output_type": "stream",
     "text": [
      "{1: 1, 2: 4, 3: 9, 4: 16, 5: 25}\n",
      "{'banana': 6, 'cherry': 6}\n"
     ]
    }
   ],
   "source": [
    "squares_dict = {x: x**2 for x in range(1, 6)}\n",
    "print(squares_dict)  # Output: {1: 1, 2: 4, 3: 9, 4: 16, 5: 25}\n",
    "\n",
    "words = ['apple', 'banana', 'cherry']\n",
    "word_lengths = {word: len(word) for word in words if len(word) > 5}\n",
    "print(word_lengths)  # Output: {'banana': 6, 'cherry': 6}\n"
   ]
  },
  {
   "cell_type": "code",
   "execution_count": 31,
   "id": "39f49f4f-6ff7-40d8-b812-67e76e2832c6",
   "metadata": {},
   "outputs": [
    {
     "name": "stdout",
     "output_type": "stream",
     "text": [
      "{1, 4, 9, 16, 25}\n",
      "{'h', 'd', 'o', 'w', 'e', 'l', 'r'}\n"
     ]
    }
   ],
   "source": [
    "unique_squares = {x**2 for x in range(1, 6)}\n",
    "print(unique_squares)  # Output: {1, 4, 9, 16, 25}\n",
    "\n",
    "unique_chars = {char for char in \"hello world\" if char != \" \"}\n",
    "print(unique_chars)  # Output: {'e', 'd', 'h', 'l', 'o', 'r', 'w'}\n"
   ]
  },
  {
   "cell_type": "code",
   "execution_count": 32,
   "id": "3dcda4f7-b92a-4b2a-939a-ef6f049a7e39",
   "metadata": {},
   "outputs": [
    {
     "name": "stdout",
     "output_type": "stream",
     "text": [
      "[1, 4, 9, 16, 25]\n"
     ]
    }
   ],
   "source": [
    "squares_gen = (x**2 for x in range(1, 6))\n",
    "print(list(squares_gen))  # Output: [1, 4, 9, 16, 25]\n"
   ]
  },
  {
   "cell_type": "code",
   "execution_count": 33,
   "id": "2d8b3f3a-4701-489a-925f-b4c94f142805",
   "metadata": {},
   "outputs": [
    {
     "name": "stdout",
     "output_type": "stream",
     "text": [
      "[2, 4, 6, 8, 10]\n"
     ]
    }
   ],
   "source": [
    "even_gen = (x for x in range(1, 11) if x % 2 == 0)\n",
    "print(list(even_gen))  # Output: [2, 4, 6, 8, 10]\n"
   ]
  }
 ],
 "metadata": {
  "kernelspec": {
   "display_name": "Python 3 (ipykernel)",
   "language": "python",
   "name": "python3"
  },
  "language_info": {
   "codemirror_mode": {
    "name": "ipython",
    "version": 3
   },
   "file_extension": ".py",
   "mimetype": "text/x-python",
   "name": "python",
   "nbconvert_exporter": "python",
   "pygments_lexer": "ipython3",
   "version": "3.12.3"
  }
 },
 "nbformat": 4,
 "nbformat_minor": 5
}
