{
 "cells": [
  {
   "cell_type": "markdown",
   "id": "e1172123-1c5e-4e7b-bbb2-ed6735304a64",
   "metadata": {},
   "source": [
    "Modules\n",
    "A module in Python is a single file containing Python code, such as functions, classes, or variables, that can be reused across programs. It helps in organizing code into manageable chunks."
   ]
  },
  {
   "cell_type": "markdown",
   "id": "c9f567fe-7db2-4dd0-8ea6-7772bda8c842",
   "metadata": {},
   "source": [
    "A Python file with a .py extension is a module\n",
    "Import the module into another Python file using the import statement.\n",
    "import my_module"
   ]
  },
  {
   "cell_type": "code",
   "execution_count": 5,
   "id": "ab1f62f9-2436-41dd-b763-2721d9c937f7",
   "metadata": {},
   "outputs": [],
   "source": [
    "# This is a module with utility functions    File: my_module.py\n",
    "def add(a, b): \n",
    "    return a + b\n",
    "\n",
    "def subtract(a, b):\n",
    "    return a - b\n"
   ]
  },
  {
   "cell_type": "code",
   "execution_count": null,
   "id": "4f7d8808-64c2-4e8c-8463-7cdc15bd034c",
   "metadata": {},
   "outputs": [],
   "source": [
    "import my_module\n",
    "\n",
    "result = my_module.add(5, 3)\n",
    "print(result)  # Output: 8\n",
    "\n",
    "from my_module import add\n",
    "print(add(2, 3))\n",
    "\n",
    "import my_module as mm\n",
    "print(mm.add(2, 3))\n",
    "\n"
   ]
  },
  {
   "cell_type": "markdown",
   "id": "f6d2a508-7d68-4c17-b99a-5fd0599409a8",
   "metadata": {},
   "source": [
    "Packages\n",
    "A package is a directory containing multiple Python modules. It includes a special file named __init__.py, which is required to mark the directory as a package."
   ]
  },
  {
   "cell_type": "raw",
   "id": "cc0aa00e-5f8b-4fad-98fc-c0add089f89c",
   "metadata": {},
   "source": [
    "Built-in Modules\n",
    "Python provides several built-in modules such as:\n",
    "\n",
    "math: Mathematical functions.\n",
    "os: Operating system interface.\n",
    "sys: System-specific parameters and functions.\n",
    "random: Generate random numbers.\n",
    "datetime: Work with date and time"
   ]
  },
  {
   "cell_type": "code",
   "execution_count": null,
   "id": "5656304a-0cf6-445c-b3ff-544195d4ddb3",
   "metadata": {},
   "outputs": [],
   "source": []
  }
 ],
 "metadata": {
  "kernelspec": {
   "display_name": "Python 3 (ipykernel)",
   "language": "python",
   "name": "python3"
  },
  "language_info": {
   "codemirror_mode": {
    "name": "ipython",
    "version": 3
   },
   "file_extension": ".py",
   "mimetype": "text/x-python",
   "name": "python",
   "nbconvert_exporter": "python",
   "pygments_lexer": "ipython3",
   "version": "3.12.3"
  }
 },
 "nbformat": 4,
 "nbformat_minor": 5
}
