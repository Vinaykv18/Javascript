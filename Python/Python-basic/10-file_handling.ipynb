{
 "cells": [
  {
   "cell_type": "code",
   "execution_count": 2,
   "id": "8162f30f-1b1f-4f05-b89d-aecdc847f1ff",
   "metadata": {},
   "outputs": [
    {
     "name": "stdout",
     "output_type": "stream",
     "text": [
      "how are you\n",
      "i am finee\n",
      "what about you\n",
      "\n",
      "\n",
      "\n",
      "\n"
     ]
    }
   ],
   "source": [
    "file = open(\"example.txt\", \"r\")  # Open in read mode\n",
    "content = file.read()\n",
    "print(content)\n",
    "file.close()  # Close the file\n"
   ]
  },
  {
   "cell_type": "code",
   "execution_count": 3,
   "id": "5896ed4c-2ac1-4a94-b23d-efce1476fc1e",
   "metadata": {},
   "outputs": [
    {
     "name": "stdout",
     "output_type": "stream",
     "text": [
      "how are you\n",
      "i am finee\n",
      "what about you\n",
      "\n",
      "\n",
      "\n",
      "\n"
     ]
    }
   ],
   "source": [
    "with open(\"example.txt\", \"r\") as file:\n",
    "    content = file.read()\n",
    "    print(content)\n",
    "# No need to explicitly call file.close()\n"
   ]
  },
  {
   "cell_type": "code",
   "execution_count": 6,
   "id": "7ea9f6f4-a27f-4890-82a6-dcf31f692b86",
   "metadata": {},
   "outputs": [
    {
     "name": "stdout",
     "output_type": "stream",
     "text": [
      "how are you\n",
      "i am finee\n",
      "what about you\n",
      "\n",
      "\n",
      "\n",
      "\n"
     ]
    }
   ],
   "source": [
    "#read(): Reads the entire content of the file.\n",
    "with open(\"example.txt\", \"r\") as file:   \n",
    "    content = file.read()\n",
    "    print(content)\n"
   ]
  },
  {
   "cell_type": "code",
   "execution_count": 5,
   "id": "45c9623b-a0cb-4e27-80df-5318580d61b7",
   "metadata": {},
   "outputs": [
    {
     "name": "stdout",
     "output_type": "stream",
     "text": [
      "how are you\n",
      "\n"
     ]
    }
   ],
   "source": [
    "with open(\"example.txt\", \"r\") as file:\n",
    "    line = file.readline()\n",
    "    print(line)\n"
   ]
  },
  {
   "cell_type": "raw",
   "id": "af7dbe9a-c527-4461-801b-f847f8364d04",
   "metadata": {},
   "source": [
    "File Methods\n",
    "Method\tDescription\n",
    "read(size)     \t    Reads size bytes from the file. Reads all if size is omitted.\n",
    "readline()\t        Reads one line at a time.\n",
    "readlines()\t        Reads all lines and returns them as a list.\n",
    "write(string)\t    Writes a string to the file.\n",
    "writelines(list)\tWrites a list of strings to the file.\n",
    "seek(offset)\t    Moves the file pointer to the specified position.\n",
    "tell()\t            Returns the current position of the file pointer.\n",
    "close()\t            Closes the file"
   ]
  },
  {
   "cell_type": "raw",
   "id": "b9bb579e-bc57-4a74-bad4-c08acef54c8c",
   "metadata": {},
   "source": [
    "Mode\tDescription\n",
    "'r'\tOpens the file for reading. Default mode.\n",
    "'w'\tOpens the file for writing. Creates the file if it doesn't exist. Overwrites the file if it exists.\n",
    "'x'\tCreates a new file. Raises an error if the file already exists.\n",
    "'a'\tOpens the file for appending. Creates the file if it doesn't exist. Data is added at the end without overwriting existing content.\n",
    "'b'\tOpens the file in binary mode. Used with other modes (e.g., 'rb', 'wb').\n",
    "'t'\tOpens the file in text mode. Default mode.\n",
    "'+'\tOpens the file for both reading and writing (e.g., 'r+', 'w+')"
   ]
  },
  {
   "cell_type": "code",
   "execution_count": 9,
   "id": "2f210e2e-d83f-451b-b318-02b72b118aa8",
   "metadata": {},
   "outputs": [
    {
     "name": "stdout",
     "output_type": "stream",
     "text": [
      "['how are you\\n', 'i am finee\\n', 'what about you\\n', '\\n', '\\n', '\\n']\n"
     ]
    }
   ],
   "source": [
    "#readlines(): Reads all lines as a list.\n",
    "with open(\"example.txt\", \"r\") as file:\n",
    "    lines = file.readlines()\n",
    "    print(lines)\n"
   ]
  },
  {
   "cell_type": "code",
   "execution_count": 11,
   "id": "e8812241-3aff-48e7-bc61-d81798bb1279",
   "metadata": {},
   "outputs": [],
   "source": [
    "with open(\"example.txt\", \"w\") as file:\n",
    "    file.write(\"This is a new line.\")\n"
   ]
  },
  {
   "cell_type": "code",
   "execution_count": 12,
   "id": "090c6fa1-908c-49fc-9723-e237332b426f",
   "metadata": {},
   "outputs": [],
   "source": [
    "with open(\"example.txt\", \"a\") as file:\n",
    "    file.write(\"\\nThis line is appended.\")\n"
   ]
  },
  {
   "cell_type": "code",
   "execution_count": 13,
   "id": "1623e8e2-dba4-42e5-8e1c-5e038d07b3f8",
   "metadata": {},
   "outputs": [
    {
     "name": "stdout",
     "output_type": "stream",
     "text": [
      "This is a new line.\n",
      "This line is appended.\n"
     ]
    }
   ],
   "source": [
    "with open(\"example.txt\",\"r\") as f:\n",
    "   print(f.read())\n"
   ]
  },
  {
   "cell_type": "code",
   "execution_count": 14,
   "id": "f7ee9547-49b2-4cb5-af61-6a653622bc1b",
   "metadata": {},
   "outputs": [],
   "source": [
    "with open(\"new_file.txt\", \"x\") as file:\n",
    "    file.write(\"This file was created exclusively.\")\n"
   ]
  },
  {
   "cell_type": "code",
   "execution_count": 15,
   "id": "21da2dc2-0b8b-4189-b4c5-1713c5f06d66",
   "metadata": {},
   "outputs": [
    {
     "name": "stdout",
     "output_type": "stream",
     "text": [
      "This file was created exclusively.\n"
     ]
    }
   ],
   "source": [
    "with open(\"new_file.txt\",\"r\") as f:\n",
    "   print(f.read())"
   ]
  },
  {
   "cell_type": "markdown",
   "id": "a5b8f00f-4caa-432d-bafa-b216da88ce11",
   "metadata": {},
   "source": [
    "Binary File Handling\n",
    "For binary files (e.g., images, videos), use modes like 'rb' (read binary) or 'wb' (write binary)."
   ]
  },
  {
   "cell_type": "code",
   "execution_count": 18,
   "id": "8352bd02-67d0-488d-87a7-7dbf78183627",
   "metadata": {},
   "outputs": [
    {
     "name": "stderr",
     "output_type": "stream",
     "text": [
      "IOPub data rate exceeded.\n",
      "The Jupyter server will temporarily stop sending output\n",
      "to the client in order to avoid crashing it.\n",
      "To change this limit, set the config variable\n",
      "`--ServerApp.iopub_data_rate_limit`.\n",
      "\n",
      "Current values:\n",
      "ServerApp.iopub_data_rate_limit=1000000.0 (bytes/sec)\n",
      "ServerApp.rate_limit_window=3.0 (secs)\n",
      "\n"
     ]
    }
   ],
   "source": [
    "with open(\"x1.jpg\", \"rb\") as file:\n",
    "    data = file.read()\n",
    "    print(data)\n"
   ]
  },
  {
   "cell_type": "code",
   "execution_count": 17,
   "id": "2b6df4ff-5ae7-4268-8b4c-31ca26604e05",
   "metadata": {},
   "outputs": [],
   "source": [
    "with open(\"copy.jpg\", \"wb\") as file:\n",
    "    file.write(data)  # `data` is binary content read earlier\n"
   ]
  },
  {
   "cell_type": "code",
   "execution_count": 19,
   "id": "a62256a0-a240-43bd-8f75-1cf87f939907",
   "metadata": {},
   "outputs": [
    {
     "name": "stdout",
     "output_type": "stream",
     "text": [
      "File not found!\n"
     ]
    }
   ],
   "source": [
    "try:\n",
    "    with open(\"nonexistent.txt\", \"r\") as file:\n",
    "        content = file.read()\n",
    "except FileNotFoundError:\n",
    "    print(\"File not found!\")\n",
    "except IOError:\n",
    "    print(\"An I/O error occurred.\")\n"
   ]
  },
  {
   "cell_type": "code",
   "execution_count": null,
   "id": "9d113dbd-2647-41da-a5b1-c8d3aecf4dc7",
   "metadata": {},
   "outputs": [],
   "source": []
  }
 ],
 "metadata": {
  "kernelspec": {
   "display_name": "Python 3 (ipykernel)",
   "language": "python",
   "name": "python3"
  },
  "language_info": {
   "codemirror_mode": {
    "name": "ipython",
    "version": 3
   },
   "file_extension": ".py",
   "mimetype": "text/x-python",
   "name": "python",
   "nbconvert_exporter": "python",
   "pygments_lexer": "ipython3",
   "version": "3.12.3"
  }
 },
 "nbformat": 4,
 "nbformat_minor": 5
}
