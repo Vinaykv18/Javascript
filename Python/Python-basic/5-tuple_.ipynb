{
 "cells": [
  {
   "cell_type": "code",
   "execution_count": 1,
   "id": "439068f2-dd90-4d32-951c-5d5ddbaba4cb",
   "metadata": {},
   "outputs": [],
   "source": [
    "# A tuple is an immutable sequence of elements, often used to store related data. Since tuples are immutable, their elements cannot be \n",
    "#  changed after they are created."
   ]
  },
  {
   "cell_type": "code",
   "execution_count": 2,
   "id": "46c2af38-15ce-49d0-8506-bfe06bc5f7e9",
   "metadata": {},
   "outputs": [],
   "source": [
    "# Empty tuple\n",
    "empty_tuple = ()\n",
    "\n",
    "# Tuple with elements\n",
    "tuple1 = (1, 2, 3)\n",
    "tuple2 = (\"apple\", \"banana\", \"cherry\")\n",
    "\n",
    "# Tuple with mixed data types\n",
    "mixed_tuple = (1, \"hello\", 3.14, True)\n",
    "\n",
    "# Single-element tuple (note the trailing comma)\n",
    "single_tuple = (42,)\n"
   ]
  },
  {
   "cell_type": "code",
   "execution_count": 3,
   "id": "bb2c5277-2a59-4684-bfc4-6aefbc9de017",
   "metadata": {},
   "outputs": [
    {
     "name": "stdout",
     "output_type": "stream",
     "text": [
      "10\n",
      "50\n",
      "(20, 30, 40)\n",
      "(50, 40, 30, 20, 10)\n"
     ]
    }
   ],
   "source": [
    "t = (10, 20, 30, 40, 50)\n",
    "\n",
    "# Access by index\n",
    "print(t[0])  # Output: 10\n",
    "print(t[-1]) # Output: 50 (last element)\n",
    "\n",
    "# Slicing\n",
    "print(t[1:4])  # Output: (20, 30, 40)\n",
    "print(t[::-1]) # Output: (50, 40, 30, 20, 10) (reversed tuple)\n"
   ]
  },
  {
   "cell_type": "code",
   "execution_count": 4,
   "id": "4fcf5e7d-1a0f-4485-859d-aa9a658b7be3",
   "metadata": {},
   "outputs": [
    {
     "name": "stdout",
     "output_type": "stream",
     "text": [
      "3\n"
     ]
    }
   ],
   "source": [
    "# 1. count()\n",
    "# Counts the number of times a specified value appears in the tuple.\n",
    "\n",
    "\n",
    "t = (1, 2, 2, 3, 4, 2)\n",
    "print(t.count(2))  # Output: 3"
   ]
  },
  {
   "cell_type": "code",
   "execution_count": 5,
   "id": "52270076-6632-43b4-90cd-909954210a92",
   "metadata": {},
   "outputs": [
    {
     "name": "stdout",
     "output_type": "stream",
     "text": [
      "2\n"
     ]
    }
   ],
   "source": [
    "# 2. index()\n",
    "# Returns the first index of a specified value. Raises a ValueError if the value is not found.\n",
    "\n",
    "t = (10, 20, 30, 40, 50)\n",
    "print(t.index(30))  # Output: 2"
   ]
  },
  {
   "cell_type": "code",
   "execution_count": 7,
   "id": "be019f6d-d4ec-4a08-bca7-186c2d484e37",
   "metadata": {},
   "outputs": [
    {
     "name": "stdout",
     "output_type": "stream",
     "text": [
      "(1, 2, 3, 4, 5, 6)\n"
     ]
    }
   ],
   "source": [
    "# Basic Tuple Operations\n",
    "# 1. Concatenation\n",
    "\n",
    "t1 = (1, 2, 3)\n",
    "t2 = (4, 5, 6)\n",
    "result = t1 + t2\n",
    "print(result)  # Output: (1, 2, 3, 4, 5, 6)\n"
   ]
  },
  {
   "cell_type": "code",
   "execution_count": 8,
   "id": "fa168b3d-6c6f-4ad3-b89c-2f9378b0e2a4",
   "metadata": {},
   "outputs": [
    {
     "name": "stdout",
     "output_type": "stream",
     "text": [
      "(1, 2, 1, 2, 1, 2)\n"
     ]
    }
   ],
   "source": [
    "#2. Repetition\n",
    "\n",
    "t = (1, 2)\n",
    "result = t * 3\n",
    "print(result)  # Output: (1, 2, 1, 2, 1, 2)"
   ]
  },
  {
   "cell_type": "code",
   "execution_count": 9,
   "id": "c981a4c3-e449-4f6a-961f-e6de0c40adbc",
   "metadata": {},
   "outputs": [
    {
     "name": "stdout",
     "output_type": "stream",
     "text": [
      "True\n",
      "False\n"
     ]
    }
   ],
   "source": [
    "t = (10, 20, 30)\n",
    "print(20 in t)  # Output: True\n",
    "print(40 in t)  # Output: False"
   ]
  },
  {
   "cell_type": "code",
   "execution_count": 10,
   "id": "94ab819d-f47c-4f49-801d-373ddfb1d1d5",
   "metadata": {},
   "outputs": [
    {
     "name": "stdout",
     "output_type": "stream",
     "text": [
      "1 2 3\n",
      "1\n",
      "[2, 3, 4]\n",
      "5\n"
     ]
    }
   ],
   "source": [
    "#Tuples are commonly used for unpacking values:\n",
    "\n",
    "\n",
    "t = (1, 2, 3)\n",
    "\n",
    "# Unpack into variables\n",
    "a, b, c = t\n",
    "print(a, b, c)  # Output: 1 2 3\n",
    "\n",
    "# Unpacking with *\n",
    "t = (1, 2, 3, 4, 5)\n",
    "a, *b, c = t\n",
    "print(a)  # Output: 1\n",
    "print(b)  # Output: [2, 3, 4]\n",
    "print(c)  # Output: 5"
   ]
  },
  {
   "cell_type": "code",
   "execution_count": null,
   "id": "78c5c965-61e5-4c6c-8021-449b66b2ff0e",
   "metadata": {},
   "outputs": [],
   "source": [
    "#Tuples are often used to return multiple values.\n",
    "\n",
    "\n",
    "def divide(a, b):\n",
    "    return a // b, a % b  # Returns a tuple\n",
    "\n",
    "quotient, remainder = divide(10, 3)\n",
    "print(quotient, remainder)  # Output: 3 1"
   ]
  }
 ],
 "metadata": {
  "kernelspec": {
   "display_name": "Python 3 (ipykernel)",
   "language": "python",
   "name": "python3"
  },
  "language_info": {
   "codemirror_mode": {
    "name": "ipython",
    "version": 3
   },
   "file_extension": ".py",
   "mimetype": "text/x-python",
   "name": "python",
   "nbconvert_exporter": "python",
   "pygments_lexer": "ipython3",
   "version": "3.12.3"
  }
 },
 "nbformat": 4,
 "nbformat_minor": 5
}
