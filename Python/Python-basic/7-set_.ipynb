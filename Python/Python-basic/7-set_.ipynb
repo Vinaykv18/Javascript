{
 "cells": [
  {
   "cell_type": "code",
   "execution_count": null,
   "id": "0949a757-42d1-48a4-bf62-a0486c8b7591",
   "metadata": {},
   "outputs": [],
   "source": [
    "# A set in Python is an unordered, mutable collection of unique elements. Sets do not allow duplicate elements and are optimized \n",
    "# for fast membership testing. "
   ]
  },
  {
   "cell_type": "code",
   "execution_count": 3,
   "id": "f9ff7a0c-1afb-418a-9978-cda70f18f725",
   "metadata": {},
   "outputs": [],
   "source": [
    "# Empty set\n",
    "empty_set = set()  # Note: {} creates a dictionary, not a set\n",
    "\n",
    "# Non-empty set\n",
    "my_set = {1, 2, 3, 4}"
   ]
  },
  {
   "cell_type": "code",
   "execution_count": 4,
   "id": "09479deb-edbb-4cd5-8344-59d03001d26b",
   "metadata": {},
   "outputs": [
    {
     "name": "stdout",
     "output_type": "stream",
     "text": [
      "{1, 2, 3, 4}\n"
     ]
    }
   ],
   "source": [
    "# From a list\n",
    "my_set = set([1, 2, 3, 3, 4])  # Duplicate '3' is removed\n",
    "print(my_set)  # Output: {1, 2, 3, 4}\n",
    "\n",
    "# From a string\n",
    "char_set = set(\"hello\")  # Output: {'h', 'e', 'l', 'o'}"
   ]
  },
  {
   "cell_type": "code",
   "execution_count": 5,
   "id": "91f4e395-2094-4df9-873e-9e6a8aec0b38",
   "metadata": {},
   "outputs": [
    {
     "name": "stdout",
     "output_type": "stream",
     "text": [
      "{1, 2, 3, 4}\n",
      "{1, 2, 3, 4, 5, 6}\n",
      "{1, 2, 4, 5, 6}\n",
      "1\n",
      "{2, 5, 6}\n",
      "set()\n"
     ]
    }
   ],
   "source": [
    "# 1. add()\n",
    "# Adds a single element to the set.\n",
    "my_set = {1, 2, 3}\n",
    "my_set.add(4)\n",
    "print(my_set)  # Output: {1, 2, 3, 4}\n",
    "\n",
    "# 2. update()\n",
    "# Adds multiple elements to the set.\n",
    "my_set.update([5, 6])\n",
    "print(my_set)  # Output: {1, 2, 3, 4, 5, 6}\n",
    "\n",
    "# 3. remove()\n",
    "# Removes a specific element; raises an error if the element is not found.\n",
    "my_set.remove(3)\n",
    "print(my_set)  # Output: {1, 2}\n",
    "\n",
    "# 4. discard()\n",
    "# Removes a specific element; does not raise an error if the element is not found.\n",
    "my_set.discard(4)  # No error even if 4 is not in the set\n",
    "\n",
    "# 5. pop()\n",
    "# Removes and returns an arbitrary element from the set.\n",
    "item = my_set.pop()\n",
    "print(item)     # Output: 1 (or any random element)\n",
    "print(my_set)   # Output: Remaining elements\n",
    "\n",
    "# 6. clear()\n",
    "# Removes all elements from the set.\n",
    "my_set.clear()\n",
    "print(my_set)  # Output: set()\n",
    "\n",
    "# 7. copy()\n",
    "# Returns a shallow copy of the set.\n",
    "copy_set = my_set.copy()"
   ]
  },
  {
   "cell_type": "code",
   "execution_count": null,
   "id": "4ea164a6-febf-4282-8410-87b82af7afed",
   "metadata": {},
   "outputs": [],
   "source": []
  }
 ],
 "metadata": {
  "kernelspec": {
   "display_name": "Python 3 (ipykernel)",
   "language": "python",
   "name": "python3"
  },
  "language_info": {
   "codemirror_mode": {
    "name": "ipython",
    "version": 3
   },
   "file_extension": ".py",
   "mimetype": "text/x-python",
   "name": "python",
   "nbconvert_exporter": "python",
   "pygments_lexer": "ipython3",
   "version": "3.12.3"
  }
 },
 "nbformat": 4,
 "nbformat_minor": 5
}
