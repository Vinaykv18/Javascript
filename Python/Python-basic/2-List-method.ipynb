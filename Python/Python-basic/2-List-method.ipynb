{
 "cells": [
  {
   "cell_type": "code",
   "execution_count": 7,
   "id": "866966a5-51b7-47be-92a9-638a5e8315f0",
   "metadata": {},
   "outputs": [
    {
     "data": {
      "text/plain": [
       "['vnv', 'fjkne', 'mltrg']"
      ]
     },
     "execution_count": 7,
     "metadata": {},
     "output_type": "execute_result"
    }
   ],
   "source": [
    "people: list[str] = ['vnv','fjkne','mltrg']\n",
    "people\n",
    "#Ordered: Elements in a list have a defined order, and this order will not change unless explicitly modified.\n",
    "\n",
    "#Mutable: Lists can be modified after their creation, meaning you can add, remove, or change elements.\n",
    "\n",
    "#Heterogeneous: Lists can contain elements of different data types, such as integers, strings, and even other lists.\n",
    "\n",
    "#Dynamic: Lists can grow or shrink in size as needed, allowing for flexible data management.\n",
    "\n",
    "#Indexed: Elements in a list can be accessed using their index, starting from 0 for the first element.\n",
    "\n",
    "#Slicing: Lists support slicing, which allows you to access a subset of elements using a range of indices.\n",
    "\n",
    "#Iterable: Lists can be iterated over using loops, making it easy to process each element.\n",
    "#-------------------------------------------------------------------------------------------------------------------------\n",
    "\n",
    "#append(): Adds an element to the end of the list.\n",
    "\n",
    "#extend(): Adds all elements of an iterable (e.g., another list) to the end of the list.\n",
    "\n",
    "#insert(): Inserts an element at a specified position.\n",
    "\n",
    "#remove(): Removes the first occurrence of a specified element.\n",
    "\n",
    "#pop(): Removes and returns the element at a specified position (default is the last element).\n",
    "\n",
    "#clear(): Removes all elements from the list.\n",
    "\n",
    "#index(): Returns the index of the first occurrence of a specified element.\n",
    "\n",
    "#count(): Returns the number of occurrences of a specified element.\n",
    "\n",
    "#sort(): Sorts the list in ascending order (can be customized with parameters).\n",
    "\n",
    "#reverse(): Reverses the order of the list.\n",
    "\n",
    "#copy(): Returns a shallow copy of the list."
   ]
  },
  {
   "cell_type": "code",
   "execution_count": 8,
   "id": "d87f116b-f0cb-4b2d-840a-518158cbcb58",
   "metadata": {},
   "outputs": [],
   "source": [
    "people.append('cu')"
   ]
  },
  {
   "cell_type": "code",
   "execution_count": 9,
   "id": "6dc19c78-0037-406b-a713-3287978d48fb",
   "metadata": {},
   "outputs": [
    {
     "name": "stdout",
     "output_type": "stream",
     "text": [
      "['vnv', 'fjkne', 'mltrg', 'cu']\n"
     ]
    }
   ],
   "source": [
    "print(people)"
   ]
  },
  {
   "cell_type": "code",
   "execution_count": 10,
   "id": "11565692-4d5e-4574-b07e-4a8198a2fbbf",
   "metadata": {},
   "outputs": [
    {
     "name": "stdout",
     "output_type": "stream",
     "text": [
      "[1, 2, 3, 4]\n"
     ]
    }
   ],
   "source": [
    "my_list = [1, 2, 3]\n",
    "my_list.append(4) #append(): Adds an element to the end of the list.\n",
    "print(my_list)  # Output: [1, 2, 3, 4]\n"
   ]
  },
  {
   "cell_type": "code",
   "execution_count": 11,
   "id": "5e4d7a5c-2745-4683-92fe-de4256675332",
   "metadata": {},
   "outputs": [
    {
     "name": "stdout",
     "output_type": "stream",
     "text": [
      "[1, 2, 3, 4, 5]\n"
     ]
    }
   ],
   "source": [
    "my_list = [1, 2, 3]\n",
    "my_list.extend([4, 5])  #extend(): Adds all elements of an iterable (e.g., another list) to the end of the list.\n",
    "print(my_list)  # Output: [1, 2, 3, 4, 5]\n"
   ]
  },
  {
   "cell_type": "code",
   "execution_count": 12,
   "id": "8970041c-a460-4ea2-b0fb-bf5e763ac89b",
   "metadata": {},
   "outputs": [
    {
     "name": "stdout",
     "output_type": "stream",
     "text": [
      "[1, 'a', 2, 3]\n"
     ]
    }
   ],
   "source": [
    "my_list = [1, 2, 3]\n",
    "my_list.insert(1, 'a') #insert(): Inserts an element at a specified position.\n",
    "print(my_list)  # Output: [1, 'a', 2, 3]\n"
   ]
  },
  {
   "cell_type": "code",
   "execution_count": 13,
   "id": "5b422a9d-8c72-4f8f-b050-116c0f28ca26",
   "metadata": {},
   "outputs": [
    {
     "name": "stdout",
     "output_type": "stream",
     "text": [
      "[1, 3, 2]\n"
     ]
    }
   ],
   "source": [
    "my_list = [1, 2, 3, 2]\n",
    "my_list.remove(2)\n",
    "print(my_list)  # Output: [1, 3, 2]\n"
   ]
  },
  {
   "cell_type": "code",
   "execution_count": 14,
   "id": "d6ff882d-64db-4f3c-8ea6-784aa494184f",
   "metadata": {},
   "outputs": [
    {
     "name": "stdout",
     "output_type": "stream",
     "text": [
      "3\n",
      "[1, 2]\n"
     ]
    }
   ],
   "source": [
    "my_list = [1, 2, 3]\n",
    "popped_element = my_list.pop()\n",
    "print(popped_element)  # Output: 3\n",
    "print(my_list)  # Output: [1, 2]\n"
   ]
  },
  {
   "cell_type": "code",
   "execution_count": 15,
   "id": "ca79fdfc-f0ee-4139-b6fc-7b53a75c57f9",
   "metadata": {},
   "outputs": [
    {
     "name": "stdout",
     "output_type": "stream",
     "text": [
      "[]\n"
     ]
    }
   ],
   "source": [
    "my_list = [1, 2, 3]\n",
    "my_list.clear()\n",
    "print(my_list)  # Output: []\n"
   ]
  },
  {
   "cell_type": "code",
   "execution_count": 16,
   "id": "4a99b9e4-c5be-4a20-9cc0-d547436149ba",
   "metadata": {},
   "outputs": [
    {
     "name": "stdout",
     "output_type": "stream",
     "text": [
      "1\n"
     ]
    }
   ],
   "source": [
    "my_list = [1, 2, 3]\n",
    "index = my_list.index(2)\n",
    "print(index)  # Output: 1\n"
   ]
  },
  {
   "cell_type": "code",
   "execution_count": 17,
   "id": "0ea7901e-76ac-49c6-9f36-bea3ee9a5f56",
   "metadata": {},
   "outputs": [
    {
     "name": "stdout",
     "output_type": "stream",
     "text": [
      "2\n"
     ]
    }
   ],
   "source": [
    "my_list = [1, 2, 2, 3]\n",
    "count = my_list.count(2)\n",
    "print(count)  # Output: 2\n"
   ]
  },
  {
   "cell_type": "code",
   "execution_count": 18,
   "id": "9d6a8ff1-daba-4d32-b9a2-43c5ce098efd",
   "metadata": {},
   "outputs": [
    {
     "name": "stdout",
     "output_type": "stream",
     "text": [
      "[1, 2, 3]\n"
     ]
    }
   ],
   "source": [
    "my_list = [3, 1, 2]\n",
    "my_list.sort()\n",
    "print(my_list)  # Output: [1, 2, 3]\n"
   ]
  },
  {
   "cell_type": "code",
   "execution_count": 19,
   "id": "b93a9800-6b30-4c08-8b22-a3194e09514d",
   "metadata": {},
   "outputs": [
    {
     "name": "stdout",
     "output_type": "stream",
     "text": [
      "[3, 2, 1]\n"
     ]
    }
   ],
   "source": [
    "my_list = [1, 2, 3]\n",
    "my_list.reverse()\n",
    "print(my_list)  # Output: [3, 2, 1]\n"
   ]
  },
  {
   "cell_type": "code",
   "execution_count": 20,
   "id": "d048a3e6-ecf2-431d-9ce9-f7fbb3f3a3df",
   "metadata": {},
   "outputs": [
    {
     "name": "stdout",
     "output_type": "stream",
     "text": [
      "[1, 2, 3]\n"
     ]
    }
   ],
   "source": [
    "my_list = [1, 2, 3]\n",
    "new_list = my_list.copy()\n",
    "print(new_list)  # Output: [1, 2, 3]\n"
   ]
  },
  {
   "cell_type": "code",
   "execution_count": 31,
   "id": "4a2fa198-bc58-4078-9787-578d6574dd81",
   "metadata": {},
   "outputs": [
    {
     "name": "stdout",
     "output_type": "stream",
     "text": [
      "[0, 1, 4, 9, 16, 25, 36, 49, 64, 81]\n",
      "[0, 1, 4, 9, 16, 25, 36, 49, 64, 81]\n",
      "[1, 9, 25, 49, 81]\n"
     ]
    }
   ],
   "source": [
    "# Traditional way\n",
    "squares = []\n",
    "for x in range(10):\n",
    "    squares.append(x**2)\n",
    "print(squares)\n",
    "\n",
    "# List comprehension way\n",
    "squares = [x**2 for x in range(10)]\n",
    "\n",
    "print(squares)\n",
    "even_squares = [x**2 for x in range(10) if x % 2 != 0]\n",
    "print(even_squares)\n"
   ]
  },
  {
   "cell_type": "code",
   "execution_count": 32,
   "id": "80994418-775a-42c2-a0e5-a821518b44db",
   "metadata": {},
   "outputs": [
    {
     "name": "stdout",
     "output_type": "stream",
     "text": [
      "[(1, 3), (1, 4), (2, 3), (2, 1), (2, 4), (3, 1), (3, 4)]\n",
      "[(1, 1), (3, 3)]\n"
     ]
    }
   ],
   "source": [
    "# Traditional way\n",
    "combinations = []\n",
    "for x in [1, 2, 3]:\n",
    "    for y in [3, 1, 4]:\n",
    "        if x != y:\n",
    "            combinations.append((x, y))\n",
    "print(combinations)\n",
    "# List comprehension way\n",
    "combinations = [(x, y) for x in [1, 2, 3] for y in [3, 1, 4] if x == y]\n",
    "print(combinations)"
   ]
  },
  {
   "cell_type": "code",
   "execution_count": null,
   "id": "8ad47b9f-2d0f-480a-b290-3bf5c84d4f76",
   "metadata": {},
   "outputs": [],
   "source": []
  }
 ],
 "metadata": {
  "kernelspec": {
   "display_name": "Python 3 (ipykernel)",
   "language": "python",
   "name": "python3"
  },
  "language_info": {
   "codemirror_mode": {
    "name": "ipython",
    "version": 3
   },
   "file_extension": ".py",
   "mimetype": "text/x-python",
   "name": "python",
   "nbconvert_exporter": "python",
   "pygments_lexer": "ipython3",
   "version": "3.12.3"
  }
 },
 "nbformat": 4,
 "nbformat_minor": 5
}
