{
 "cells": [
  {
   "cell_type": "code",
   "execution_count": 1,
   "id": "9c33bd86-b30e-4ce8-8dd0-bd7d73da168b",
   "metadata": {},
   "outputs": [],
   "source": [
    "#A string in Python is a sequence of characters enclosed in single (') or double (\") quotes. Strings are immutable, meaning they cannot be \n",
    " #changed after they are created"
   ]
  },
  {
   "cell_type": "code",
   "execution_count": 2,
   "id": "15bd4d14-6853-4ad7-9b08-4bad48b94cfc",
   "metadata": {},
   "outputs": [],
   "source": [
    "# Using single or double quotes\n",
    "string1 = 'Hello'\n",
    "string2 = \"World\"\n",
    "\n",
    "# Multi-line string\n",
    "multiline = \"\"\"This is\n",
    "a multi-line string.\"\"\"\n"
   ]
  },
  {
   "cell_type": "code",
   "execution_count": 3,
   "id": "2149487b-e3b9-4f24-99dd-9bfd4f2ba66a",
   "metadata": {},
   "outputs": [
    {
     "name": "stdout",
     "output_type": "stream",
     "text": [
      "P\n",
      "n\n",
      "yth\n",
      "nohtyP\n"
     ]
    }
   ],
   "source": [
    "text = \"Python\"\n",
    "\n",
    "# Access by index\n",
    "print(text[0])  # Output: P\n",
    "print(text[-1]) # Output: n (last character)\n",
    "\n",
    "# Slicing\n",
    "print(text[1:4]) # Output: yth\n",
    "print(text[::-1]) # Output: nohtyP (reversed string)\n"
   ]
  },
  {
   "cell_type": "code",
   "execution_count": 5,
   "id": "06bc290d-ee54-4f4e-ac2c-086a930752d1",
   "metadata": {},
   "outputs": [
    {
     "name": "stdout",
     "output_type": "stream",
     "text": [
      "python programming\n",
      "PYTHON PROGRAMMING\n",
      "Python programming\n",
      "Python Programming\n",
      "pYTHON pROGRAMMING\n"
     ]
    }
   ],
   "source": [
    "# 1. String Case Methods\n",
    "# lower(): Converts all characters to lowercase.\n",
    "# upper(): Converts all characters to uppercase.\n",
    "# capitalize(): Capitalizes the first character.\n",
    "# title(): Converts the first letter of each word to uppercase.\n",
    "# swapcase(): Swaps the case of all characters.\n",
    "\n",
    "text = \"Python Programming\"\n",
    "print(text.lower())      # python programming\n",
    "print(text.upper())      # PYTHON PROGRAMMING\n",
    "print(text.capitalize()) # Python programming\n",
    "print(text.title())      # Python Programming\n",
    "print(text.swapcase())   # pYTHON pROGRAMMING\n"
   ]
  },
  {
   "cell_type": "code",
   "execution_count": 6,
   "id": "4f11dae6-b228-4e44-9012-3c86589b88b2",
   "metadata": {},
   "outputs": [
    {
     "name": "stdout",
     "output_type": "stream",
     "text": [
      "Hello World\n",
      "Hello World   \n",
      "   Hello World\n"
     ]
    }
   ],
   "source": [
    "# 2. Trimming Methods\n",
    "# strip(): Removes whitespace from both ends.\n",
    "# lstrip(): Removes whitespace from the left.\n",
    "# rstrip(): Removes whitespace from the right.\n",
    "\n",
    "text = \"   Hello World   \"\n",
    "print(text.strip())  # \"Hello World\"\n",
    "print(text.lstrip()) # \"Hello World   \"\n",
    "print(text.rstrip()) # \"   Hello World\""
   ]
  },
  {
   "cell_type": "code",
   "execution_count": 7,
   "id": "ef3ea10c-e291-4ef1-9fed-6d6d7ec43531",
   "metadata": {},
   "outputs": [
    {
     "name": "stdout",
     "output_type": "stream",
     "text": [
      "7\n",
      "9\n",
      "True\n",
      "True\n"
     ]
    }
   ],
   "source": [
    "# 3. Searching and Finding\n",
    "# find(substring): Returns the first index of the substring, or -1 if not found.\n",
    "# rfind(substring): Returns the last index of the substring.\n",
    "# index(substring): Similar to find(), but raises an error if not found.\n",
    "# startswith(substring): Returns True if the string starts with the substring.\n",
    "# endswith(substring): Returns True if the string ends with the substring.\n",
    "\n",
    "text = \"Python Programming\"\n",
    "print(text.find(\"Pro\"))       # Output: 7\n",
    "print(text.rfind(\"o\"))        # Output: 10\n",
    "print(text.startswith(\"Py\"))  # Output: True\n",
    "print(text.endswith(\"ing\"))   # Output: True"
   ]
  },
  {
   "cell_type": "code",
   "execution_count": 8,
   "id": "d60e4620-4f32-4bbd-8e1d-ead1a7397575",
   "metadata": {},
   "outputs": [
    {
     "name": "stdout",
     "output_type": "stream",
     "text": [
      "Python is awesome\n",
      "['Python', 'is', 'fun']\n",
      "Python-is-fun\n"
     ]
    }
   ],
   "source": [
    "# 4. Modifying Strings\n",
    "# replace(old, new): Replaces all occurrences of old with new.\n",
    "# split(separator): Splits the string into a list using the specified separator.\n",
    "# join(iterable): Joins elements of an iterable (list, tuple) into a string.\n",
    "\n",
    "text = \"Python is fun\"\n",
    "print(text.replace(\"fun\", \"awesome\"))  # Python is awesome\n",
    "\n",
    "# Splitting\n",
    "words = text.split()  # Default separator is space\n",
    "print(words)          # ['Python', 'is', 'fun']\n",
    "\n",
    "# Joining\n",
    "joined_text = \"-\".join(words)\n",
    "print(joined_text)    # Python-is-fun"
   ]
  },
  {
   "cell_type": "code",
   "execution_count": 9,
   "id": "01e4c359-ffe5-441b-b733-9abc0fdff299",
   "metadata": {},
   "outputs": [
    {
     "name": "stdout",
     "output_type": "stream",
     "text": [
      "True\n",
      "False\n",
      "True\n",
      "True\n"
     ]
    }
   ],
   "source": [
    "# 5. Checking Properties\n",
    "# isalpha(): Returns True if all characters are alphabetic.\n",
    "# isdigit(): Returns True if all characters are digits.\n",
    "# isalnum(): Returns True if all characters are alphanumeric.\n",
    "# isspace(): Returns True if all characters are whitespace.\n",
    "# islower(): Returns True if all characters are lowercase.\n",
    "# isupper(): Returns True if all characters are uppercase.\n",
    "\n",
    "text = \"Python\"\n",
    "print(text.isalpha())  # Output: True\n",
    "print(text.isdigit())  # Output: False\n",
    "print(\"123\".isdigit()) # Output: True\n",
    "print(\" \".isspace())   # Output: True"
   ]
  },
  {
   "cell_type": "code",
   "execution_count": 10,
   "id": "ebe61ecf-63f8-40ab-8108-4965c4b34d9b",
   "metadata": {},
   "outputs": [
    {
     "name": "stdout",
     "output_type": "stream",
     "text": [
      "Hello, Alice. Welcome to Python!\n",
      "Hello, Alice. Welcome to Python!\n"
     ]
    }
   ],
   "source": [
    "# 6. String Formatting\n",
    "# format(): Formats strings using placeholders.\n",
    "# f-strings (from Python 3.6): Embed expressions inside curly braces.\n",
    "\n",
    "# Using format()\n",
    "text = \"Hello, {}. Welcome to {}!\"\n",
    "print(text.format(\"Alice\", \"Python\"))  # Hello, Alice. Welcome to Python!\n",
    "\n",
    "# Using f-strings\n",
    "name = \"Alice\"\n",
    "language = \"Python\"\n",
    "print(f\"Hello, {name}. Welcome to {language}!\")  # Hello, Alice. Welcome to Python!"
   ]
  },
  {
   "cell_type": "code",
   "execution_count": 11,
   "id": "ea6a306c-9640-4a5c-881c-6e3e84e4691a",
   "metadata": {},
   "outputs": [
    {
     "name": "stdout",
     "output_type": "stream",
     "text": [
      "18\n",
      "2\n"
     ]
    }
   ],
   "source": [
    "# 7. Length and Count\n",
    "# len(): Returns the length of the string.\n",
    "# count(substring): Returns the number of occurrences of a substring.\n",
    "\n",
    "text = \"Python Programming\"\n",
    "print(len(text))       # Output: 18\n",
    "print(text.count(\"o\")) # Output: 2"
   ]
  },
  {
   "cell_type": "code",
   "execution_count": 12,
   "id": "2843e4d6-f87a-492b-879c-efde13da1547",
   "metadata": {},
   "outputs": [
    {
     "name": "stdout",
     "output_type": "stream",
     "text": [
      "True\n",
      "4\n"
     ]
    }
   ],
   "source": [
    "# Practice Examples\n",
    "# Check if a string is a palindrome:\n",
    "\n",
    "\n",
    "text = \"madam\"\n",
    "print(text == text[::-1])  # Output: True\n",
    "\n",
    "# Count vowels in a string:\n",
    "\n",
    "\n",
    "text = \"Python Programming\"\n",
    "vowels = \"aeiouAEIOU\"\n",
    "count = sum(1 for char in text if char in vowels)\n",
    "print(count)  # Output: 4"
   ]
  },
  {
   "cell_type": "code",
   "execution_count": null,
   "id": "4e2ccbe9-d0f8-4f5e-899f-a2b009a13195",
   "metadata": {},
   "outputs": [],
   "source": []
  }
 ],
 "metadata": {
  "kernelspec": {
   "display_name": "Python 3 (ipykernel)",
   "language": "python",
   "name": "python3"
  },
  "language_info": {
   "codemirror_mode": {
    "name": "ipython",
    "version": 3
   },
   "file_extension": ".py",
   "mimetype": "text/x-python",
   "name": "python",
   "nbconvert_exporter": "python",
   "pygments_lexer": "ipython3",
   "version": "3.12.3"
  }
 },
 "nbformat": 4,
 "nbformat_minor": 5
}
