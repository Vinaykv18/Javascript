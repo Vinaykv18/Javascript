{
 "cells": [
  {
   "cell_type": "code",
   "execution_count": null,
   "id": "f17722bf-7164-42be-aba4-288cf00710c1",
   "metadata": {},
   "outputs": [],
   "source": [
    "# A dictionary in Python is an unordered collection of key-value pairs. Each key in a dictionary is unique, and values can be accessed using the \n",
    "# corresponding keys. Dictionaries are mutable, meaning you can update, add, or delete key-value pairs."
   ]
  },
  {
   "cell_type": "code",
   "execution_count": 1,
   "id": "381a5dff-e345-4e00-8b53-87a6c18e330f",
   "metadata": {},
   "outputs": [],
   "source": [
    "# Empty dictionary\n",
    "empty_dict = {}\n",
    "\n",
    "# Dictionary with key-value pairs\n",
    "my_dict = {\"name\": \"Alice\", \"age\": 25, \"profession\": \"Engineer\"}\n",
    "\n",
    "# Using the dict() constructor\n",
    "dict_example = dict(name=\"Bob\", age=30, profession=\"Doctor\")\n",
    "\n",
    "# Nested dictionary\n",
    "nested_dict = {\n",
    "    \"person1\": {\"name\": \"Alice\", \"age\": 25},\n",
    "    \"person2\": {\"name\": \"Bob\", \"age\": 30}\n",
    "}\n"
   ]
  },
  {
   "cell_type": "code",
   "execution_count": 2,
   "id": "9f9deddb-1914-4ab8-8e5c-2696d674937f",
   "metadata": {},
   "outputs": [
    {
     "name": "stdout",
     "output_type": "stream",
     "text": [
      "Alice\n",
      "25\n",
      "Not Found\n"
     ]
    }
   ],
   "source": [
    "# 1. Using Keys\n",
    "\n",
    "my_dict = {\"name\": \"Alice\", \"age\": 25}\n",
    "print(my_dict[\"name\"])  # Output: Alice\n",
    "\n",
    "print(my_dict.get(\"age\"))        # Output: 25\n",
    "print(my_dict.get(\"address\", \"Not Found\"))  # Output: Not Found\n"
   ]
  },
  {
   "cell_type": "code",
   "execution_count": 4,
   "id": "f328f9cc-d24b-4b18-ba3a-e0d663fcf469",
   "metadata": {},
   "outputs": [
    {
     "name": "stdout",
     "output_type": "stream",
     "text": [
      "dict_keys(['name', 'age'])\n",
      "dict_values(['Alice', 25])\n",
      "dict_items([('name', 'Alice'), ('age', 25)])\n",
      "{'name': 'Alice', 'age': 25, 'address': '123 Street'}\n",
      "25\n",
      "{'name': 'Alice', 'address': '123 Street'}\n",
      "('address', '123 Street')\n",
      "{'name': 'Alice'}\n",
      "{}\n",
      "30\n",
      "{'name': 'Alice', 'age': 30}\n"
     ]
    }
   ],
   "source": [
    "\n",
    "\n",
    "# 1. keys()\n",
    "# Returns a view of all the keys in the dictionary.\n",
    "my_dict = {\"name\": \"Alice\", \"age\": 25}\n",
    "print(my_dict.keys())  # Output: dict_keys(['name', 'age'])\n",
    "\n",
    "# 2. values()\n",
    "# Returns a view of all the values in the dictionary.\n",
    "print(my_dict.values())  # Output: dict_values(['Alice', 25])\n",
    "\n",
    "# 3. items()\n",
    "# Returns a view of all key-value pairs as tuples.\n",
    "print(my_dict.items())  # Output: dict_items([('name', 'Alice'), ('age', 25)])\n",
    "\n",
    "# 4. update()\n",
    "# Updates the dictionary with key-value pairs from another dictionary or iterable.\n",
    "my_dict.update({\"address\": \"123 Street\"})\n",
    "print(my_dict)  # Output: {'name': 'Alice', 'age': 25, 'address': '123 Street'}\n",
    "\n",
    "# 5. pop()\n",
    "# Removes and returns the value for a specified key.\n",
    "age = my_dict.pop(\"age\")\n",
    "print(age)       # Output: 25\n",
    "print(my_dict)   # Output: {'name': 'Alice', 'address': '123 Street'}\n",
    "\n",
    "# 6. popitem()\n",
    "# Removes and returns the last key-value pair as a tuple.\n",
    "item = my_dict.popitem()\n",
    "print(item)      # Output: ('address', '123 Street')\n",
    "print(my_dict)   # Output: {'name': 'Alice'}\n",
    "\n",
    "# 7. clear()\n",
    "# Removes all items from the dictionary.\n",
    "my_dict.clear()\n",
    "print(my_dict)  # Output: {}\n",
    "\n",
    "# 8. setdefault()\n",
    "# Returns the value of a key if it exists; otherwise, it inserts the key with a specified default value.\n",
    "my_dict = {\"name\": \"Alice\"}\n",
    "value = my_dict.setdefault(\"age\", 30)\n",
    "print(value)     # Output: 30\n",
    "print(my_dict)   # Output: {'name': 'Alice', 'age': 30}\n"
   ]
  },
  {
   "cell_type": "code",
   "execution_count": 5,
   "id": "22f3bbb2-14fa-4479-aa6d-4454c8c5e015",
   "metadata": {},
   "outputs": [
    {
     "name": "stdout",
     "output_type": "stream",
     "text": [
      "True\n",
      "False\n",
      "name\n",
      "age\n",
      "city\n",
      "Alice\n",
      "26\n",
      "New York\n",
      "name: Alice\n",
      "age: 26\n",
      "city: New York\n"
     ]
    }
   ],
   "source": [
    "# Basic Dictionary Operations\n",
    "# 1. Adding/Updating Elements\n",
    " \n",
    "my_dict[\"city\"] = \"New York\"  # Add a new key-value pair\n",
    "my_dict[\"age\"] = 26          # Update an existing value\n",
    "\n",
    "# 2. Membership Test\n",
    "print(\"name\" in my_dict)  # Output: True\n",
    "print(\"address\" in my_dict)  # Output: False\n",
    "\n",
    "\n",
    "# Iterate over keys\n",
    "for key in my_dict:\n",
    "    print(key)\n",
    "\n",
    "# Iterate over values\n",
    "for value in my_dict.values():\n",
    "    print(value)\n",
    "\n",
    "# Iterate over key-value pairs\n",
    "for key, value in my_dict.items():\n",
    "    print(f\"{key}: {value}\")"
   ]
  },
  {
   "cell_type": "code",
   "execution_count": 6,
   "id": "d0f4af83-42d4-47bc-b434-c71df5aef286",
   "metadata": {},
   "outputs": [
    {
     "name": "stdout",
     "output_type": "stream",
     "text": [
      "{1: 1, 2: 4, 3: 9, 4: 16, 5: 25}\n"
     ]
    }
   ],
   "source": [
    "# Square of numbers as key-value pairs\n",
    "squares = {x: x**2 for x in range(1, 6)}\n",
    "print(squares)  # Output: {1: 1, 2: 4, 3: 9, 4: 16, 5: 25}\n"
   ]
  },
  {
   "cell_type": "code",
   "execution_count": null,
   "id": "11c14f55-e8c1-4503-a5f8-4279f5da32aa",
   "metadata": {},
   "outputs": [],
   "source": []
  }
 ],
 "metadata": {
  "kernelspec": {
   "display_name": "Python 3 (ipykernel)",
   "language": "python",
   "name": "python3"
  },
  "language_info": {
   "codemirror_mode": {
    "name": "ipython",
    "version": 3
   },
   "file_extension": ".py",
   "mimetype": "text/x-python",
   "name": "python",
   "nbconvert_exporter": "python",
   "pygments_lexer": "ipython3",
   "version": "3.12.3"
  }
 },
 "nbformat": 4,
 "nbformat_minor": 5
}
