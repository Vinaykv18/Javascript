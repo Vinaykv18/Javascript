{
 "cells": [
  {
   "cell_type": "code",
   "execution_count": 1,
   "id": "01bf447d-2d3d-4ad7-9ba3-0fd76577abe6",
   "metadata": {},
   "outputs": [
    {
     "name": "stdout",
     "output_type": "stream",
     "text": [
      "Alice\n",
      "25\n",
      "Bob\n"
     ]
    }
   ],
   "source": [
    "class Person:\n",
    "    def __init__(self, name, age):\n",
    "        self._name = name  # Private attribute (by convention)\n",
    "        self._age = age\n",
    "\n",
    "    # Getter for name\n",
    "    def get_name(self):\n",
    "        return self._name\n",
    "\n",
    "    # Setter for name\n",
    "    def set_name(self, name):\n",
    "        if isinstance(name, str):  # Validation\n",
    "            self._name = name\n",
    "        else:\n",
    "            raise ValueError(\"Name must be a string\")\n",
    "\n",
    "    # Getter for age\n",
    "    def get_age(self):\n",
    "        return self._age\n",
    "\n",
    "    # Setter for age\n",
    "    def set_age(self, age):\n",
    "        if age > 0:  # Validation\n",
    "            self._age = age\n",
    "        else:\n",
    "            raise ValueError(\"Age must be positive\")\n",
    "\n",
    "# Example usage\n",
    "person = Person(\"Alice\", 25)\n",
    "print(person.get_name())  # Output: Alice\n",
    "print(person.get_age())   # Output: 25\n",
    "\n",
    "person.set_name(\"Bob\")\n",
    "print(person.get_name())  # Output: Bob\n"
   ]
  },
  {
   "cell_type": "raw",
   "id": "4ea7eace-0b13-4240-8a9d-6873af74f1f7",
   "metadata": {},
   "source": [
    "Modern Approach: Using @property Decorator\n",
    "Python's @property decorator simplifies the creation of getters and setters by providing a clean syntax"
   ]
  },
  {
   "cell_type": "code",
   "execution_count": 2,
   "id": "dcf31216-79c8-444e-abf2-6fe0f96e2474",
   "metadata": {},
   "outputs": [
    {
     "name": "stdout",
     "output_type": "stream",
     "text": [
      "Alice\n",
      "Bob\n",
      "30\n"
     ]
    }
   ],
   "source": [
    "class Person:\n",
    "    def __init__(self, name, age):\n",
    "        self._name = name  # Private attribute\n",
    "        self._age = age\n",
    "\n",
    "    # Getter for name\n",
    "    @property\n",
    "    def name(self):\n",
    "        return self._name\n",
    "\n",
    "    # Setter for name\n",
    "    @name.setter\n",
    "    def name(self, value):\n",
    "        if isinstance(value, str):  # Validation\n",
    "            self._name = value\n",
    "        else:\n",
    "            raise ValueError(\"Name must be a string\")\n",
    "\n",
    "    # Getter for age\n",
    "    @property\n",
    "    def age(self):\n",
    "        return self._age\n",
    "\n",
    "    # Setter for age\n",
    "    @age.setter\n",
    "    def age(self, value):\n",
    "        if value > 0:  # Validation\n",
    "            self._age = value\n",
    "        else:\n",
    "            raise ValueError(\"Age must be positive\")\n",
    "\n",
    "# Example usage\n",
    "person = Person(\"Alice\", 25)\n",
    "print(person.name)  # Accessing the getter: Output: Alice\n",
    "person.name = \"Bob\"  # Using the setter\n",
    "print(person.name)  # Output: Bob\n",
    "\n",
    "person.age = 30  # Using the setter\n",
    "print(person.age)  # Accessing the getter: Output: 30\n"
   ]
  },
  {
   "cell_type": "code",
   "execution_count": 4,
   "id": "a5163a71-6135-43eb-ad15-f603831946e7",
   "metadata": {},
   "outputs": [
    {
     "name": "stdout",
     "output_type": "stream",
     "text": [
      "5\n",
      "78.5\n"
     ]
    }
   ],
   "source": [
    "#You can create a read-only property by omitting the setter.\n",
    "class Circle:\n",
    "    def __init__(self, radius):\n",
    "        self._radius = radius\n",
    "\n",
    "    @property\n",
    "    def radius(self):\n",
    "        return self._radius\n",
    "\n",
    "    # Calculate area as a read-only property\n",
    "    @property\n",
    "    def area(self):\n",
    "        return 3.14 * self._radius ** 2\n",
    "\n",
    "# Example usage\n",
    "circle = Circle(5)\n",
    "print(circle.radius)  # Output: 5\n",
    "print(circle.area)    # Output: 78.5\n",
    "\n",
    "# circle.area = 100  # This will raise an error: can't set attribute\n"
   ]
  },
  {
   "cell_type": "code",
   "execution_count": 5,
   "id": "67f3a58c-e9da-4900-a6ea-3517d7893f71",
   "metadata": {},
   "outputs": [],
   "source": [
    "class PasswordManager:\n",
    "    def __init__(self):\n",
    "        self._password = None\n",
    "\n",
    "    @property\n",
    "    def password(self):\n",
    "        raise AttributeError(\"Password is write-only\")\n",
    "\n",
    "    @password.setter\n",
    "    def password(self, value):\n",
    "        if len(value) >= 8:\n",
    "            self._password = value\n",
    "        else:\n",
    "            raise ValueError(\"Password must be at least 8 characters long\")\n",
    "\n",
    "# Example usage\n",
    "pm = PasswordManager()\n",
    "pm.password = \"securepassword\"  # Setting the password\n",
    "# print(pm.password)  # This will raise an AttributeError: Password is write-only\n"
   ]
  },
  {
   "cell_type": "raw",
   "id": "87749e96-0793-401e-9263-fae4d7b1ed5a",
   "metadata": {},
   "source": [
    "Advantages of Using Getters and Setters\n",
    "Validation: Ensure valid data is being set.\n",
    "Abstraction: Hide implementation details.\n",
    "Flexibility: Easily change the internal implementation without affecting external code."
   ]
  },
  {
   "cell_type": "code",
   "execution_count": null,
   "id": "4a47e12e-5472-413b-896b-344636a99ac1",
   "metadata": {},
   "outputs": [],
   "source": []
  }
 ],
 "metadata": {
  "kernelspec": {
   "display_name": "Python 3 (ipykernel)",
   "language": "python",
   "name": "python3"
  },
  "language_info": {
   "codemirror_mode": {
    "name": "ipython",
    "version": 3
   },
   "file_extension": ".py",
   "mimetype": "text/x-python",
   "name": "python",
   "nbconvert_exporter": "python",
   "pygments_lexer": "ipython3",
   "version": "3.12.3"
  }
 },
 "nbformat": 4,
 "nbformat_minor": 5
}
