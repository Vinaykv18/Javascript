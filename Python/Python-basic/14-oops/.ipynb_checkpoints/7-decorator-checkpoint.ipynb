{
 "cells": [
  {
   "cell_type": "raw",
   "id": "5d7070c3-32f8-407b-9d1a-141c4879e363",
   "metadata": {},
   "source": [
    "What is a Decorator?\n",
    "A decorator is a function that takes another function as input, adds some functionality to it, and returns the modified function. They are often used to enhance or extend the behavior of functions or methods."
   ]
  },
  {
   "cell_type": "raw",
   "id": "0e733b5c-28c7-4d82-90f2-43392286390d",
   "metadata": {},
   "source": [
    "Functions as First-Class Objects:\n",
    "\n",
    "Functions in Python can be assigned to variables, passed as arguments, and returned from other functions.\n",
    "This enables decorators to wrap or modify other functions."
   ]
  },
  {
   "cell_type": "raw",
   "id": "61c7e556-1450-400f-85f3-e7d3b8e56c2d",
   "metadata": {},
   "source": [
    "Inner Functions:\n",
    "\n",
    "Decorators use nested functions (functions defined inside another function) to wrap behavior."
   ]
  },
  {
   "cell_type": "raw",
   "id": "ba03ea1b-6f4f-41f2-8c9e-6e5af19d705a",
   "metadata": {},
   "source": [
    "Higher-Order Functions:\n",
    "\n",
    "A function that takes another function as input or returns a function is called a higher-order function."
   ]
  },
  {
   "cell_type": "code",
   "execution_count": 1,
   "id": "96459991-b241-429c-a218-cc12a9089468",
   "metadata": {},
   "outputs": [
    {
     "name": "stdout",
     "output_type": "stream",
     "text": [
      "Before the function call\n",
      "Hello!\n",
      "After the function call\n"
     ]
    }
   ],
   "source": [
    "def decorator(func):\n",
    "    def wrapper():\n",
    "        print(\"Before the function call\")\n",
    "        func()\n",
    "        print(\"After the function call\")\n",
    "    return wrapper\n",
    "\n",
    "@decorator\n",
    "def say_hello():\n",
    "    print(\"Hello!\")\n",
    "\n",
    "say_hello()\n",
    "\n",
    "# Output:\n",
    "# Before the function call\n",
    "# Hello!\n",
    "# After the function call\n"
   ]
  },
  {
   "cell_type": "code",
   "execution_count": 2,
   "id": "2aee1c44-12c1-4d37-b763-09ad2be0526c",
   "metadata": {},
   "outputs": [
    {
     "name": "stdout",
     "output_type": "stream",
     "text": [
      "Hello!\n"
     ]
    }
   ],
   "source": [
    "def greet():\n",
    "    return \"Hello!\"\n",
    "\n",
    "say = greet\n",
    "print(say())  # Output: Hello!\n"
   ]
  },
  {
   "cell_type": "code",
   "execution_count": 3,
   "id": "d7889b90-a28e-4d3c-b90c-f19a341645ef",
   "metadata": {},
   "outputs": [
    {
     "name": "stdout",
     "output_type": "stream",
     "text": [
      "Inner function!\n"
     ]
    }
   ],
   "source": [
    "def outer_function():\n",
    "    def inner_function():\n",
    "        print(\"Inner function!\")\n",
    "    return inner_function\n",
    "\n",
    "func = outer_function()\n",
    "func()  # Output: Inner function!\n"
   ]
  },
  {
   "cell_type": "code",
   "execution_count": 4,
   "id": "85c23dae-0c9f-4c94-98f6-b223370aa36b",
   "metadata": {},
   "outputs": [
    {
     "name": "stdout",
     "output_type": "stream",
     "text": [
      "Hi!\n"
     ]
    }
   ],
   "source": [
    "def higher_order(func):\n",
    "    return func()\n",
    "\n",
    "def greet():\n",
    "    return \"Hi!\"\n",
    "\n",
    "print(higher_order(greet))  # Output: Hi!\n"
   ]
  },
  {
   "cell_type": "code",
   "execution_count": 5,
   "id": "028eac55-101e-484b-87f3-d834e4401463",
   "metadata": {},
   "outputs": [
    {
     "name": "stdout",
     "output_type": "stream",
     "text": [
      "Arguments passed: (5, 3) {}\n",
      "Function executed\n",
      "8\n"
     ]
    }
   ],
   "source": [
    "def decorator(func):\n",
    "    def wrapper(*args, **kwargs):\n",
    "        print(\"Arguments passed:\", args, kwargs)\n",
    "        result = func(*args, **kwargs)\n",
    "        print(\"Function executed\")\n",
    "        return result\n",
    "    return wrapper\n",
    "\n",
    "@decorator\n",
    "def add(a, b):\n",
    "    return a + b\n",
    "\n",
    "print(add(5, 3))\n",
    "\n",
    "# Output:\n",
    "# Arguments passed: (5, 3) {}\n",
    "# Function executed\n",
    "# 8\n"
   ]
  },
  {
   "cell_type": "code",
   "execution_count": 6,
   "id": "6a616b75-dad0-421d-871d-89dffb0c7b25",
   "metadata": {},
   "outputs": [
    {
     "name": "stdout",
     "output_type": "stream",
     "text": [
      "Class decorator is called\n",
      "Hello, Alice!\n"
     ]
    }
   ],
   "source": [
    "class Decorator:\n",
    "    def __init__(self, func):\n",
    "        self.func = func\n",
    "\n",
    "    def __call__(self, *args, **kwargs):\n",
    "        print(\"Class decorator is called\")\n",
    "        return self.func(*args, **kwargs)\n",
    "\n",
    "@Decorator\n",
    "def greet(name):\n",
    "    print(f\"Hello, {name}!\")\n",
    "\n",
    "greet(\"Alice\")\n",
    "\n",
    "# Output:\n",
    "# Class decorator is called\n",
    "# Hello, Alice!\n"
   ]
  },
  {
   "cell_type": "raw",
   "id": "0b5d3e21-1232-48ee-b2f9-c730aed5e4d2",
   "metadata": {},
   "source": [
    "Built-in Decorators in Python\n",
    "Python provides several built-in decorators, including:\n",
    "\n",
    "@staticmethod: For creating static methods.\n",
    "@classmethod: For creating class methods.\n",
    "@property: For creating getter methods for class attributes."
   ]
  },
  {
   "cell_type": "code",
   "execution_count": 7,
   "id": "117f5361-48d3-4c95-8f36-ab9caa36e954",
   "metadata": {},
   "outputs": [
    {
     "name": "stdout",
     "output_type": "stream",
     "text": [
      "5\n",
      "10\n"
     ]
    }
   ],
   "source": [
    "class Circle:\n",
    "    def __init__(self, radius):\n",
    "        self._radius = radius\n",
    "\n",
    "    @property\n",
    "    def radius(self):\n",
    "        return self._radius\n",
    "\n",
    "    @radius.setter\n",
    "    def radius(self, value):\n",
    "        if value < 0:\n",
    "            raise ValueError(\"Radius cannot be negative\")\n",
    "        self._radius = value\n",
    "\n",
    "circle = Circle(5)\n",
    "print(circle.radius)  # Output: 5\n",
    "circle.radius = 10\n",
    "print(circle.radius)  # Output: 10\n"
   ]
  },
  {
   "cell_type": "code",
   "execution_count": null,
   "id": "f03c9470-f5c4-49d0-a602-e06454ab4739",
   "metadata": {},
   "outputs": [],
   "source": []
  }
 ],
 "metadata": {
  "kernelspec": {
   "display_name": "Python 3 (ipykernel)",
   "language": "python",
   "name": "python3"
  },
  "language_info": {
   "codemirror_mode": {
    "name": "ipython",
    "version": 3
   },
   "file_extension": ".py",
   "mimetype": "text/x-python",
   "name": "python",
   "nbconvert_exporter": "python",
   "pygments_lexer": "ipython3",
   "version": "3.12.3"
  }
 },
 "nbformat": 4,
 "nbformat_minor": 5
}
