{
 "cells": [
  {
   "cell_type": "code",
   "execution_count": 4,
   "id": "f067086a-e7b4-4628-98a8-88609fbc4c07",
   "metadata": {},
   "outputs": [
    {
     "name": "stdout",
     "output_type": "stream",
     "text": [
      "500\n",
      "3000\n"
     ]
    }
   ],
   "source": [
    "# How to create a class:\n",
    "class Item:\n",
    "    def calculate_total_price(self, x, y):\n",
    "        return x * y\n",
    "\n",
    "# How to create an instance of a class\n",
    "item1 = Item()\n",
    "\n",
    "# Assign attributes:\n",
    "item1.name = \"Phone\"\n",
    "item1.price = 100\n",
    "item1.quantity = 5\n",
    "\n",
    "# Calling methods from instances of a class:\n",
    "print(item1.calculate_total_price(item1.price, item1.quantity))\n",
    "\n",
    "# How to create an instance of a class (We could create as much as instances we'd like to)\n",
    "item2 = Item()\n",
    "\n",
    "# Assign attributes\n",
    "item2.name = \"Laptop\"\n",
    "item2.price = 1000\n",
    "item2.quantity = 3\n",
    "\n",
    "# Calling methods from instances of a class: \n",
    "print(item2.calculate_total_price(item2.price, item2.quantity))"
   ]
  },
  {
   "cell_type": "code",
   "execution_count": 14,
   "id": "1d1da750-b23e-44d5-8ecd-780b6a8d6c11",
   "metadata": {},
   "outputs": [
    {
     "name": "stdout",
     "output_type": "stream",
     "text": [
      "200\n",
      "3000\n"
     ]
    }
   ],
   "source": [
    "class Item:\n",
    "    def __init__(self, name: str, price: float, quantity=0):\n",
    "        # Run validations to the received arguments\n",
    "        assert price >= 0, f\"Price {price} is not greater than or equal to zero!\"\n",
    "        assert quantity >= 0, f\"Quantity {quantity} is not greater or equal to zero!\"\n",
    "\n",
    "        # Assign to self object\n",
    "        self.name = name\n",
    "        self.price = price\n",
    "        self.quantity = quantity\n",
    "\n",
    "    def calculate_total_price(self):\n",
    "        return self.price * self.quantity\n",
    "\n",
    "item1 = Item(\"Phone\", 100, 2)\n",
    "item2 = Item(\"Laptop\", 1000, 3)\n",
    "\n",
    "print(item1.calculate_total_price())\n",
    "print(item2.calculate_total_price())"
   ]
  },
  {
   "cell_type": "code",
   "execution_count": 21,
   "id": "22262fcf-f494-4ac3-a6bc-9a38808ada46",
   "metadata": {},
   "outputs": [
    {
     "name": "stdout",
     "output_type": "stream",
     "text": [
      "[Item('Phone', 100, 1), Item('Laptop', 1000, 3), Item('Cable', 10, 5), Item('Mouse', 50, 5), Item('Keyboard', 75, 5)] endl\n"
     ]
    }
   ],
   "source": [
    "class Item:\n",
    "    pay_rate = 0.8 # The pay rate after 20% discount\n",
    "    all = []\n",
    "    def __init__(self, name: str, price: float, quantity=0):\n",
    "        # Run validations to the received arguments\n",
    "        assert price >= 0, f\"Price {price} is not greater than or equal to zero!\"\n",
    "        assert quantity >= 0, f\"Quantity {quantity} is not greater or equal to zero!\"\n",
    "\n",
    "        # Assign to self object\n",
    "        self.name = name\n",
    "        self.price = price\n",
    "        self.quantity = quantity\n",
    "\n",
    "        # Actions to execute\n",
    "        Item.all.append(self)\n",
    "\n",
    "    def calculate_total_price(self):\n",
    "        return self.price * self.quantity\n",
    "\n",
    "    def apply_discount(self):\n",
    "        self.price = self.price * self.pay_rate\n",
    "\n",
    "    def __repr__(self):\n",
    "        return f\"Item('{self.name}', {self.price}, {self.quantity})\"\n",
    "\n",
    "item1 = Item(\"Phone\", 100, 1)\n",
    "item2 = Item(\"Laptop\", 1000, 3)\n",
    "item3 = Item(\"Cable\", 10, 5)\n",
    "item4 = Item(\"Mouse\", 50, 5)\n",
    "item5 = Item(\"Keyboard\", 75, 5)\n",
    "\n",
    "print(Item.all)"
   ]
  },
  {
   "cell_type": "raw",
   "id": "e386247c-7439-4c65-b75d-f6ba1f52cb03",
   "metadata": {},
   "source": [
    "1. Class Methods\n",
    "Definition: A class method is bound to the class and not the instance of the class.\n",
    "Decorator: @classmethod\n",
    "First Parameter: The first parameter of a class method is cls, which represents the class itself, allowing the method to access or modify class-level attributes.\n",
    "Use Case: Class methods are used when you need to work with the class itself rather than instances."
   ]
  },
  {
   "cell_type": "code",
   "execution_count": 29,
   "id": "94ae5646-21e4-4e23-9364-f5c4a283dead",
   "metadata": {},
   "outputs": [
    {
     "name": "stdout",
     "output_type": "stream",
     "text": [
      "1\n",
      "2\n"
     ]
    }
   ],
   "source": [
    "class Example:\n",
    "    class_variable = 0\n",
    "\n",
    "    @classmethod\n",
    "    def increment_class_variable(cls):\n",
    "        cls.class_variable += 1\n",
    "        return cls.class_variable\n",
    "\n",
    "# Call the class method\n",
    "print(Example.increment_class_variable())  # Output: 1\n",
    "print(Example.increment_class_variable())  # Output: 2\n",
    "\n"
   ]
  },
  {
   "cell_type": "code",
   "execution_count": 30,
   "id": "326e68ab-01f9-4567-bf57-2abfe6d7bb40",
   "metadata": {},
   "outputs": [
    {
     "name": "stdout",
     "output_type": "stream",
     "text": [
      "Result: 15\n"
     ]
    }
   ],
   "source": [
    "class Utility:\n",
    "    @staticmethod\n",
    "    def add_numbers(a, b):\n",
    "        return a + b\n",
    "\n",
    "# Calling static method\n",
    "result = Utility.add_numbers(5, 10)\n",
    "print(f\"Result: {result}\")  # Output: 15\n"
   ]
  },
  {
   "cell_type": "code",
   "execution_count": 31,
   "id": "90130ab2-a0c4-42b7-9cd8-acd6ee1f05e1",
   "metadata": {},
   "outputs": [
    {
     "name": "stdout",
     "output_type": "stream",
     "text": [
      "8\n",
      "20\n"
     ]
    }
   ],
   "source": [
    "class Calculator:\n",
    "    @staticmethod\n",
    "    def add(a, b):\n",
    "        return a + b\n",
    "\n",
    "    @classmethod\n",
    "    def multiply_by(cls, value, factor):\n",
    "        return value * factor\n",
    "\n",
    "# Static method call\n",
    "print(Calculator.add(5, 3))  # Output: 8\n",
    "\n",
    "# Class method call\n",
    "print(Calculator.multiply_by(10, 2))  # Output: 20\n"
   ]
  },
  {
   "cell_type": "code",
   "execution_count": 32,
   "id": "2441432e-09bb-4d64-8fc1-3b2ad2399704",
   "metadata": {},
   "outputs": [
    {
     "name": "stdout",
     "output_type": "stream",
     "text": [
      "TechCorp\n",
      "InnoTech\n",
      "InnoTech\n"
     ]
    }
   ],
   "source": [
    "class Employee:\n",
    "    # Class variable\n",
    "    company_name = \"TechCorp\"\n",
    "\n",
    "    def __init__(self, name):\n",
    "        self.name = name  # Instance variable\n",
    "\n",
    "    @classmethod\n",
    "    def change_company_name(cls, new_name):\n",
    "        cls.company_name = new_name  # Modifies the class variable\n",
    "\n",
    "# Initial class variable value\n",
    "print(Employee.company_name)  # Output: TechCorp\n",
    "\n",
    "# Change class variable using class method\n",
    "Employee.change_company_name(\"InnoTech\")\n",
    "print(Employee.company_name)  # Output: InnoTech\n",
    "\n",
    "# Create an instance and observe class variable access\n",
    "emp = Employee(\"Alice\")\n",
    "print(emp.company_name)  # Output: InnoTech\n"
   ]
  },
  {
   "cell_type": "code",
   "execution_count": 33,
   "id": "4f3ea825-1696-4360-89a7-41ec1484ba3d",
   "metadata": {},
   "outputs": [
    {
     "name": "stdout",
     "output_type": "stream",
     "text": [
      "8\n",
      "24\n"
     ]
    }
   ],
   "source": [
    "class MathOperations:\n",
    "    @staticmethod\n",
    "    def add(a, b):\n",
    "        return a + b\n",
    "\n",
    "    @staticmethod\n",
    "    def multiply(a, b):\n",
    "        return a * b\n",
    "\n",
    "# Call static methods without creating an instance\n",
    "print(MathOperations.add(5, 3))       # Output: 8\n",
    "print(MathOperations.multiply(4, 6)) # Output: 24\n"
   ]
  },
  {
   "cell_type": "code",
   "execution_count": null,
   "id": "afb059d8-837f-4cc2-8f19-8e45e724ddda",
   "metadata": {},
   "outputs": [],
   "source": []
  }
 ],
 "metadata": {
  "kernelspec": {
   "display_name": "Python 3 (ipykernel)",
   "language": "python",
   "name": "python3"
  },
  "language_info": {
   "codemirror_mode": {
    "name": "ipython",
    "version": 3
   },
   "file_extension": ".py",
   "mimetype": "text/x-python",
   "name": "python",
   "nbconvert_exporter": "python",
   "pygments_lexer": "ipython3",
   "version": "3.12.3"
  }
 },
 "nbformat": 4,
 "nbformat_minor": 5
}
