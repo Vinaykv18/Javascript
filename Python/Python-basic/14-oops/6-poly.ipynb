{
 "cells": [
  {
   "cell_type": "raw",
   "id": "b13f8248-93fe-4657-afac-cafb33529410",
   "metadata": {},
   "source": [
    "Polymorphism in Python\n",
    "Polymorphism is a core concept of Object-Oriented Programming (OOP) that allows objects of different types to be treated uniformly. It means \"many forms\" and enables methods, functions, or objects to behave differently depending on their context.\n",
    "\n",
    "Key Aspects of Polymorphism\n",
    "\n",
    "Polymorphism through Method Overriding (Runtime Polymorphism):\n",
    "Achieved by redefining a method in a subclass that exists in its parent class.\n",
    "The method in the subclass overrides the method in the parent class.\n",
    "Decided at runtime.\n",
    "\n",
    "Polymorphism through Method Overloading (Compile-time Polymorphism):\n",
    "Python does not directly support method overloading like some other languages (e.g., Java or C++).\n",
    "Python achieves this using default arguments, variable-length arguments, or conditional logic.\n",
    "\n",
    "Polymorphism with Functions and Objects:\n",
    "The same function or method can accept objects of different types if they implement the required behavior (e.g., duck typing).\n",
    "\n",
    "Operator Overloading:\n",
    "Python allows operators (e.g., +, -, *) to work with custom objects by overriding special methods like __add__, __sub__, etc."
   ]
  },
  {
   "cell_type": "code",
   "execution_count": 5,
   "id": "f603d8b0-c12d-4189-9f6e-aa75a35d42f2",
   "metadata": {},
   "outputs": [
    {
     "name": "stdout",
     "output_type": "stream",
     "text": [
      "Meow\n",
      "Bark\n",
      "I make a sound\n"
     ]
    },
    {
     "data": {
      "text/plain": [
       "'Meow'"
      ]
     },
     "execution_count": 5,
     "metadata": {},
     "output_type": "execute_result"
    }
   ],
   "source": [
    "#Method Overriding (Runtime Polymorphism)\n",
    "class Animal:\n",
    "    def speak(self):\n",
    "        return \"I make a sound\"\n",
    "\n",
    "class Dog(Animal):\n",
    "    def speak(self):\n",
    "        return \"Bark\"\n",
    "\n",
    "class Cat(Animal):\n",
    "    def speak(self):\n",
    "        return \"Meow\"\n",
    "\n",
    "\n",
    "animals = [Cat(), Dog(), Animal()]\n",
    "for animal in animals:\n",
    "    print(animal.speak())\n",
    "\n",
    "a = Cat()\n",
    "a.speak()\n",
    "\n",
    "# Output:\n",
    "# Bark\n",
    "# Meow\n",
    "# I make a sound\n"
   ]
  },
  {
   "cell_type": "code",
   "execution_count": 7,
   "id": "850f96df-2298-4050-b280-e23b4d0c6dcf",
   "metadata": {},
   "outputs": [
    {
     "name": "stdout",
     "output_type": "stream",
     "text": [
      "5\n",
      "20\n"
     ]
    }
   ],
   "source": [
    "class Math:\n",
    "    def multiply(self, a, b=1):\n",
    "        return a * b\n",
    "\n",
    "# Usage\n",
    "math = Math()\n",
    "print(math.multiply(5))       # Output: 5 (multiplies by default value 1)\n",
    "print(math.multiply(5, 4))    # Output: 20\n"
   ]
  },
  {
   "cell_type": "markdown",
   "id": "c5b6bbcd-37d7-44a1-8a07-5a7272942395",
   "metadata": {},
   "source": [
    "2. Method Overloading (Simulated in Python)\n",
    "Python does not support method overloading directly. Instead, it uses default arguments or variable-length arguments (*args, **kwargs) to achieve similar functionality."
   ]
  },
  {
   "cell_type": "code",
   "execution_count": 8,
   "id": "072058ca-0721-4f63-bce4-6c496058ab7d",
   "metadata": {},
   "outputs": [
    {
     "name": "stdout",
     "output_type": "stream",
     "text": [
      "Bark\n",
      "Vroom\n"
     ]
    }
   ],
   "source": [
    "class Dog:\n",
    "    def sound(self):\n",
    "        return \"Bark\"\n",
    "\n",
    "class Car:\n",
    "    def sound(self):\n",
    "        return \"Vroom\"\n",
    "\n",
    "# Function that uses polymorphism\n",
    "def make_sound(obj):\n",
    "    print(obj.sound())\n",
    "\n",
    "# Usage\n",
    "make_sound(Dog())  # Output: Bark\n",
    "make_sound(Car())  # Output: Vroom\n"
   ]
  },
  {
   "cell_type": "markdown",
   "id": "bcb8fcb7-0796-4400-8248-35b71866ba92",
   "metadata": {},
   "source": [
    "3. Polymorphism with Functions and Objects\n",
    "Python uses duck typing, where the type of an object is less important than the methods or behavior it supports. If an object \"quacks like a duck and walks like a duck,\" Python treats it as a duck."
   ]
  },
  {
   "cell_type": "code",
   "execution_count": 12,
   "id": "64a0d71e-2123-44ad-99be-d66056537bba",
   "metadata": {},
   "outputs": [
    {
     "name": "stdout",
     "output_type": "stream",
     "text": [
      "(4, 6)\n"
     ]
    }
   ],
   "source": [
    "class Point:\n",
    "    def __init__(self, x, y):\n",
    "        self.x = x\n",
    "        self.y = y\n",
    "\n",
    "    def __add__(self, other):\n",
    "        return Point(self.x + other.x, self.y + other.y)\n",
    "\n",
    "    def __str__(self):\n",
    "        return f\"({self.x}, {self.y})\"\n",
    "\n",
    "# Usage\n",
    "p1 = Point(1, 2)\n",
    "p2 = Point(3, 4)\n",
    "p3 = p1 + p2\n",
    "print(p3)  # Output: (4, 6)\n"
   ]
  },
  {
   "cell_type": "code",
   "execution_count": null,
   "id": "8f70de80-a7ae-42c6-9e28-6d81f3dd456c",
   "metadata": {},
   "outputs": [],
   "source": []
  }
 ],
 "metadata": {
  "kernelspec": {
   "display_name": "Python 3 (ipykernel)",
   "language": "python",
   "name": "python3"
  },
  "language_info": {
   "codemirror_mode": {
    "name": "ipython",
    "version": 3
   },
   "file_extension": ".py",
   "mimetype": "text/x-python",
   "name": "python",
   "nbconvert_exporter": "python",
   "pygments_lexer": "ipython3",
   "version": "3.12.3"
  }
 },
 "nbformat": 4,
 "nbformat_minor": 5
}
