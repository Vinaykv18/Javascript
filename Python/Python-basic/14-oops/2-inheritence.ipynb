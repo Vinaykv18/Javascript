{
 "cells": [
  {
   "cell_type": "code",
   "execution_count": 1,
   "id": "a8f270f9-0686-41b4-8f29-f3783287204b",
   "metadata": {},
   "outputs": [
    {
     "name": "stdout",
     "output_type": "stream",
     "text": [
      "Animals make sounds\n",
      "Dogs bark\n"
     ]
    }
   ],
   "source": [
    "#single inheritence\n",
    "class Animal:\n",
    "    def sound(self):\n",
    "        print(\"Animals make sounds\")\n",
    "\n",
    "class Dog(Animal):  # Dog inherits from Animal\n",
    "    def bark(self):\n",
    "        print(\"Dogs bark\")\n",
    "\n",
    "# Create an instance of Dog\n",
    "d = Dog()\n",
    "d.sound()  # Output: Animals make sounds\n",
    "d.bark()   # Output: Dogs bark\n"
   ]
  },
  {
   "cell_type": "code",
   "execution_count": 10,
   "id": "744b1052-faba-4ece-8c62-6cfa885e4ac8",
   "metadata": {},
   "outputs": [
    {
     "name": "stdout",
     "output_type": "stream",
     "text": [
      "Father: Cooking\n",
      "Father: Cooking\n",
      "Child: Painting\n"
     ]
    }
   ],
   "source": [
    "#mutiple inheritence : Python resolves method conflicts using the Method Resolution Order (MRO), which follows the C3 linearization algorithm.\n",
    "class Father:\n",
    "    def skills(self):\n",
    "        print(\"Father: Cooking\")\n",
    "\n",
    "class Mother:\n",
    "    def skills(self):\n",
    "        print(\"Mother: Singing\")\n",
    "\n",
    "class Child(Father, Mother):  # Multiple inheritance\n",
    "    def skills(self):\n",
    "        super().skills()  # Access the first parent\n",
    "        super().skills()\n",
    "        print(\"Child: Painting\")\n",
    "\n",
    "# Create an instance of Child\n",
    "c = Child()\n",
    "c.skills()\n"
   ]
  },
  {
   "cell_type": "code",
   "execution_count": 14,
   "id": "0cb9462c-386e-46a8-b614-c7c70022cc02",
   "metadata": {},
   "outputs": [
    {
     "name": "stdout",
     "output_type": "stream",
     "text": [
      "Grandparent: Family values\n",
      "Parent: Gardening\n",
      "Child: Painting\n"
     ]
    }
   ],
   "source": [
    "#A child class inherits from a parent class, and another child class inherits from the first child.\n",
    "class Grandparent:\n",
    "    def legacy(self):\n",
    "        print(\"Grandparent: Family values\")\n",
    "\n",
    "class Parent(Grandparent):\n",
    "    def skills(self):\n",
    "        print(\"Parent: Gardening\")\n",
    "\n",
    "class Child(Parent):\n",
    "    def hobby(self):\n",
    "        super().legacy()\n",
    "        super().skills()\n",
    "        print(\"Child: Painting\")\n",
    "\n",
    "c = Child()\n",
    "#c.legacy()  # Output: Grandparent: Family values\n",
    "#c.skills()  # Output: Parent: Gardening\n",
    "c.hobby()   # Output: Child: Painting\n"
   ]
  },
  {
   "cell_type": "code",
   "execution_count": 16,
   "id": "5f293d02-b1e7-4ebc-9446-7d13f37c1fb0",
   "metadata": {},
   "outputs": [
    {
     "name": "stdout",
     "output_type": "stream",
     "text": [
      "Animals make sounds\n",
      "Cats meow\n",
      "Animals make sounds\n",
      "Dogs bark\n"
     ]
    }
   ],
   "source": [
    "#Multiple child classes inherit from a single parent class.\n",
    "class Animal:\n",
    "    def sound(self):\n",
    "        print(\"Animals make sounds\")\n",
    "\n",
    "class Cat(Animal):\n",
    "    def meow(self):\n",
    "        print(\"Cats meow\")\n",
    "\n",
    "class Dog(Animal):\n",
    "    def bark(self):\n",
    "        print(\"Dogs bark\")\n",
    "\n",
    "# Instances\n",
    "cat = Cat()\n",
    "cat.sound()  # Output: Animals make sounds\n",
    "cat.meow()   # Output: Cats meow\n",
    "\n",
    "dog = Dog()\n",
    "dog.sound()  # Output: Animals make sounds\n",
    "dog.bark()   # Output: Dogs bark\n"
   ]
  },
  {
   "cell_type": "code",
   "execution_count": 17,
   "id": "2d3d05a9-3fde-46e3-aa4a-f34abfccc9e2",
   "metadata": {},
   "outputs": [
    {
     "name": "stdout",
     "output_type": "stream",
     "text": [
      "Method in Class A\n",
      "Method in Class C\n",
      "Method in Class D\n"
     ]
    }
   ],
   "source": [
    "class A:\n",
    "    def method_a(self):\n",
    "        print(\"Method in Class A\")\n",
    "\n",
    "class B(A):\n",
    "    def method_b(self):\n",
    "        print(\"Method in Class B\")\n",
    "\n",
    "class C:\n",
    "    def method_c(self):\n",
    "        print(\"Method in Class C\")\n",
    "\n",
    "class D(B, C):  # Hybrid inheritance\n",
    "    def method_d(self):\n",
    "        print(\"Method in Class D\")\n",
    "\n",
    "d = D()\n",
    "d.method_a()  # Output: Method in Class A\n",
    "d.method_c()  # Output: Method in Class C\n",
    "d.method_d()  # Output: Method in Class D\n"
   ]
  },
  {
   "cell_type": "code",
   "execution_count": 18,
   "id": "17bcd055-1a66-4f0e-8d44-caee00a72f63",
   "metadata": {},
   "outputs": [
    {
     "name": "stdout",
     "output_type": "stream",
     "text": [
      "[Phone('jscPhonev10', 500, 5)]\n"
     ]
    }
   ],
   "source": [
    "import csv\n",
    "\n",
    "\n",
    "class Item:\n",
    "    pay_rate = 0.8 # The pay rate after 20% discount\n",
    "    all = []\n",
    "    def __init__(self, name: str, price: float, quantity=0):\n",
    "        # Run validations to the received arguments\n",
    "        assert price >= 0, f\"Price {price} is not greater than or equal to zero!\"\n",
    "        assert quantity >= 0, f\"Quantity {quantity} is not greater or equal to zero!\"\n",
    "\n",
    "        # Assign to self object\n",
    "        self.name = name\n",
    "        self.price = price\n",
    "        self.quantity = quantity\n",
    "\n",
    "        # Actions to execute\n",
    "        Item.all.append(self)\n",
    "\n",
    "    def calculate_total_price(self):\n",
    "        return self.price * self.quantity\n",
    "\n",
    "    def apply_discount(self):\n",
    "        self.price = self.price * self.pay_rate\n",
    "\n",
    "    @classmethod\n",
    "    def instantiate_from_csv(cls):\n",
    "        with open('items.csv', 'r') as f:\n",
    "            reader = csv.DictReader(f)\n",
    "            items = list(reader)\n",
    "\n",
    "        for item in items:\n",
    "            Item(\n",
    "                name=item.get('name'),\n",
    "                price=float(item.get('price')),\n",
    "                quantity=int(item.get('quantity')),\n",
    "            )\n",
    "\n",
    "    @staticmethod\n",
    "    def is_integer(num):\n",
    "        # We will count out the floats that are point zero\n",
    "        # For i.e: 5.0, 10.0\n",
    "        if isinstance(num, float):\n",
    "            # Count out the floats that are point zero\n",
    "            return num.is_integer()\n",
    "        elif isinstance(num, int):\n",
    "            return True\n",
    "        else:\n",
    "            return False\n",
    "\n",
    "    def __repr__(self):\n",
    "        return f\"{self.__class__.__name__}('{self.name}', {self.price}, {self.quantity})\"\n",
    "\n",
    "\n",
    "class Phone(Item):\n",
    "    def __init__(self, name: str, price: float, quantity=0, broken_phones=0):\n",
    "        # Call to super function to have access to all attributes / methods\n",
    "        super().__init__(\n",
    "            name, price, quantity\n",
    "        )\n",
    "\n",
    "        # Run validations to the received arguments\n",
    "        assert broken_phones >= 0, f\"Broken Phones {broken_phones} is not greater or equal to zero!\"\n",
    "\n",
    "        # Assign to self object\n",
    "        self.broken_phones = broken_phones\n",
    "\n",
    "phone1 = Phone(\"jscPhonev10\", 500, 5, 1)\n",
    "\n",
    "print(Item.all)"
   ]
  },
  {
   "cell_type": "code",
   "execution_count": null,
   "id": "d52b2a88-5cba-4b55-a3eb-2baa4e8b9c7d",
   "metadata": {},
   "outputs": [],
   "source": []
  }
 ],
 "metadata": {
  "kernelspec": {
   "display_name": "Python 3 (ipykernel)",
   "language": "python",
   "name": "python3"
  },
  "language_info": {
   "codemirror_mode": {
    "name": "ipython",
    "version": 3
   },
   "file_extension": ".py",
   "mimetype": "text/x-python",
   "name": "python",
   "nbconvert_exporter": "python",
   "pygments_lexer": "ipython3",
   "version": "3.12.3"
  }
 },
 "nbformat": 4,
 "nbformat_minor": 5
}
