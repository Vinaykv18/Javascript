{
 "cells": [
  {
   "cell_type": "raw",
   "id": "e02d29fc-106a-482e-8fe3-dab7115ab4da",
   "metadata": {},
   "source": [
    "Iterators\n",
    "Definition:\n",
    "An iterator is an object that represents a stream of data. It implements the __iter__() and __next__() methods.\n",
    "\n",
    "__iter__(): Returns the iterator object itself.\n",
    "__next__(): Returns the next item in the sequence. Raises StopIteration when the sequence ends.\n"
   ]
  },
  {
   "cell_type": "code",
   "execution_count": 4,
   "id": "989d4da4-21e6-4468-8af2-b7412d0635f8",
   "metadata": {},
   "outputs": [
    {
     "name": "stdout",
     "output_type": "stream",
     "text": [
      "1\n",
      "2\n",
      "3\n",
      "4\n",
      "5\n"
     ]
    }
   ],
   "source": [
    "class MyIterator:\n",
    "    def __init__(self, start, end):\n",
    "        self.current = start\n",
    "        self.end = end\n",
    "\n",
    "    def __iter__(self):\n",
    "        return self\n",
    "\n",
    "    def __next__(self):\n",
    "        if self.current < self.end:\n",
    "            value = self.current\n",
    "            self.current += 1\n",
    "            return value\n",
    "        else:\n",
    "            raise StopIteration\n",
    "\n",
    "# Usage\n",
    "iterator = MyIterator(1, 6)\n",
    "for item in iterator:\n",
    "    print(item)  # Output: 1, 2, 3, 4\n"
   ]
  },
  {
   "cell_type": "raw",
   "id": "784c1668-1c92-4901-9185-3f24b99bb3e5",
   "metadata": {},
   "source": [
    "Generators\n",
    "Definition:\n",
    "A generator is a simpler way to create iterators using a function with the yield keyword. Generators automatically implement __iter__() and __next__().\n",
    "\n",
    "yield: Produces a value and pauses the function, saving its state. Execution resumes from this state when the next value is requested."
   ]
  },
  {
   "cell_type": "code",
   "execution_count": 5,
   "id": "3af4f149-ec78-4a31-b7c2-96487311cacc",
   "metadata": {},
   "outputs": [
    {
     "name": "stdout",
     "output_type": "stream",
     "text": [
      "1\n",
      "2\n",
      "3\n",
      "4\n"
     ]
    }
   ],
   "source": [
    "def my_generator(start, end):\n",
    "    while start < end:\n",
    "        yield start\n",
    "        start += 1\n",
    "\n",
    "# Usage\n",
    "gen = my_generator(1, 5)\n",
    "for item in gen:\n",
    "    print(item)  # Output: 1, 2, 3, 4\n"
   ]
  },
  {
   "cell_type": "raw",
   "id": "2505b1ee-4041-42c6-b1ba-725460b99b28",
   "metadata": {},
   "source": [
    "Key Differences Between Generators and Iterators\n",
    "Aspect\t            Iterator\t                                                    Generator\n",
    "Creation\t        Created manually by implementing __iter__() and __next__(). \tCreated using a function with yield.\n",
    "Code Complexity \tRequires a class to manage state explicitly.\t                Simple and concise with a function.\n",
    "Memory Usage\t    Can store all data in memory (depending on implementation).     Produces values one at a time; memory efficient.\n",
    "State Handling\t    Must manually handle and update state.\t                        State is managed automatically.\n"
   ]
  },
  {
   "cell_type": "code",
   "execution_count": 9,
   "id": "81a57bec-537d-4481-ab7d-a7c0fd208949",
   "metadata": {},
   "outputs": [
    {
     "name": "stdout",
     "output_type": "stream",
     "text": [
      "0\n",
      "1\n",
      "4\n",
      "9\n",
      "16\n",
      "25\n",
      "36\n",
      "49\n",
      "64\n",
      "81\n"
     ]
    }
   ],
   "source": [
    "gen_exp = (x * x for x in range(10))\n",
    "#print(next(gen_exp))  # Output: 0\n",
    "#print(next(gen_exp))  # Output: 1\n",
    "\n",
    "for value in gen_exp:\n",
    "    print(value)  # Output: 4, 9, 16\n"
   ]
  },
  {
   "cell_type": "code",
   "execution_count": null,
   "id": "0e4ce182-c8f7-49c9-b9d3-4d6fd5dfa11b",
   "metadata": {},
   "outputs": [],
   "source": []
  },
  {
   "cell_type": "code",
   "execution_count": null,
   "id": "dd6076ad-674a-4091-b110-9c37ed67b95e",
   "metadata": {},
   "outputs": [],
   "source": []
  }
 ],
 "metadata": {
  "kernelspec": {
   "display_name": "Python 3 (ipykernel)",
   "language": "python",
   "name": "python3"
  },
  "language_info": {
   "codemirror_mode": {
    "name": "ipython",
    "version": 3
   },
   "file_extension": ".py",
   "mimetype": "text/x-python",
   "name": "python",
   "nbconvert_exporter": "python",
   "pygments_lexer": "ipython3",
   "version": "3.12.3"
  }
 },
 "nbformat": 4,
 "nbformat_minor": 5
}
